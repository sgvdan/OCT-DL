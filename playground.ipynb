{
 "cells": [
  {
   "cell_type": "markdown",
   "metadata": {},
   "source": [
    "## OCT Playground\n",
    "Sandbox to play around with the different OCT Deep Learning Applications"
   ]
  },
  {
   "cell_type": "code",
   "execution_count": 1,
   "metadata": {
    "tags": []
   },
   "outputs": [
    {
     "name": "stdout",
     "output_type": "stream",
     "text": [
      "Sat Oct  2 17:06:44 2021       \n",
      "+-----------------------------------------------------------------------------+\n",
      "| NVIDIA-SMI 455.45.01    Driver Version: 455.45.01    CUDA Version: 11.1     |\n",
      "|-------------------------------+----------------------+----------------------+\n",
      "| GPU  Name        Persistence-M| Bus-Id        Disp.A | Volatile Uncorr. ECC |\n",
      "| Fan  Temp  Perf  Pwr:Usage/Cap|         Memory-Usage | GPU-Util  Compute M. |\n",
      "|                               |                      |               MIG M. |\n",
      "|===============================+======================+======================|\n",
      "|   0  Quadro RTX 8000     Off  | 00000000:39:00.0 Off |                  Off |\n",
      "| 33%   27C    P8    12W / 260W |      0MiB / 48601MiB |      0%      Default |\n",
      "|                               |                      |                  N/A |\n",
      "+-------------------------------+----------------------+----------------------+\n",
      "                                                                               \n",
      "+-----------------------------------------------------------------------------+\n",
      "| Processes:                                                                  |\n",
      "|  GPU   GI   CI        PID   Type   Process name                  GPU Memory |\n",
      "|        ID   ID                                                   Usage      |\n",
      "|=============================================================================|\n",
      "|  No running processes found                                                 |\n",
      "+-----------------------------------------------------------------------------+\n"
     ]
    },
    {
     "name": "stderr",
     "output_type": "stream",
     "text": [
      "\u001b[34m\u001b[1mwandb\u001b[0m: Currently logged in as: \u001b[33msgvdan\u001b[0m (use `wandb login --relogin` to force relogin)\n"
     ]
    }
   ],
   "source": [
    "### Init\n",
    "\n",
    "# Show Resources\n",
    "!nvidia-smi\n",
    "\n",
    "# Auto reload\n",
    "%load_ext autoreload\n",
    "%autoreload 2\n",
    "\n",
    "# Imports\n",
    "import wandb\n",
    "wandb.login()\n",
    "from experiment import Experiment"
   ]
  },
  {
   "cell_type": "code",
   "execution_count": 2,
   "metadata": {},
   "outputs": [
    {
     "name": "stderr",
     "output_type": "stream",
     "text": [
      "\u001b[34m\u001b[1mwandb\u001b[0m: wandb version 0.12.3 is available!  To upgrade, please run:\n",
      "\u001b[34m\u001b[1mwandb\u001b[0m:  $ pip install wandb --upgrade\n"
     ]
    },
    {
     "data": {
      "text/html": [
       "\n",
       "                Tracking run with wandb version 0.12.2<br/>\n",
       "                Syncing run <strong style=\"color:#cdcd00\">twilight-surf-117</strong> to <a href=\"https://wandb.ai\" target=\"_blank\">Weights & Biases</a> <a href=\"https://docs.wandb.com/integrations/jupyter.html\" target=\"_blank\">(Documentation)</a>.<br/>\n",
       "                Project page: <a href=\"https://wandb.ai/sgvdan/OCT-DL\" target=\"_blank\">https://wandb.ai/sgvdan/OCT-DL</a><br/>\n",
       "                Run page: <a href=\"https://wandb.ai/sgvdan/OCT-DL/runs/17j2g8lr\" target=\"_blank\">https://wandb.ai/sgvdan/OCT-DL/runs/17j2g8lr</a><br/>\n",
       "                Run data is saved locally in <code>/home/labs/waic/sgvdan/workspace/OCT-DL/wandb/run-20211002_170647-17j2g8lr</code><br/><br/>\n",
       "            "
      ],
      "text/plain": [
       "<IPython.core.display.HTML object>"
      ]
     },
     "metadata": {},
     "output_type": "display_data"
    },
    {
     "name": "stdout",
     "output_type": "stream",
     "text": [
      "Load train dataset\n",
      "Load test dataset\n",
      "loading vgg19_nominal model...\n"
     ]
    },
    {
     "name": "stderr",
     "output_type": "stream",
     "text": [
      "  0%|          | 0/7 [00:00<?, ?it/s]/home/labs/waic/sgvdan/.conda/envs/segev-workspace/lib/python3.8/site-packages/torch/nn/functional.py:718: UserWarning: Named tensors and all their associated APIs are an experimental feature and subject to change. Please do not use them for anything important until they are released as stable. (Triggered internally at  /opt/conda/conda-bld/pytorch_1623448234945/work/c10/core/TensorImpl.h:1156.)\n",
      "  return torch.max_pool2d(input, kernel_size, stride, padding, dilation, ceil_mode)\n",
      "100%|██████████| 7/7 [17:13<00:00, 147.70s/it]\n"
     ]
    },
    {
     "name": "stdout",
     "output_type": "stream",
     "text": [
      "Model's accuracy: 0.97\n"
     ]
    },
    {
     "data": {
      "text/html": [
       "<br/>Waiting for W&B process to finish, PID 42146<br/>Program ended successfully."
      ],
      "text/plain": [
       "<IPython.core.display.HTML object>"
      ]
     },
     "metadata": {},
     "output_type": "display_data"
    },
    {
     "data": {
      "application/vnd.jupyter.widget-view+json": {
       "model_id": "",
       "version_major": 2,
       "version_minor": 0
      },
      "text/plain": [
       "VBox(children=(Label(value=' 0.00MB of 0.00MB uploaded (0.00MB deduped)\\r'), FloatProgress(value=1.0, max=1.0)…"
      ]
     },
     "metadata": {},
     "output_type": "display_data"
    },
    {
     "data": {
      "text/html": [
       "Find user logs for this run at: <code>/home/labs/waic/sgvdan/workspace/OCT-DL/wandb/run-20211002_170647-17j2g8lr/logs/debug.log</code>"
      ],
      "text/plain": [
       "<IPython.core.display.HTML object>"
      ]
     },
     "metadata": {},
     "output_type": "display_data"
    },
    {
     "data": {
      "text/html": [
       "Find internal logs for this run at: <code>/home/labs/waic/sgvdan/workspace/OCT-DL/wandb/run-20211002_170647-17j2g8lr/logs/debug-internal.log</code>"
      ],
      "text/plain": [
       "<IPython.core.display.HTML object>"
      ]
     },
     "metadata": {},
     "output_type": "display_data"
    },
    {
     "data": {
      "text/html": [
       "<h3>Run summary:</h3><br/><style>\n",
       "    table.wandb td:nth-child(1) { padding: 0 10px; text-align: right }\n",
       "    </style><table class=\"wandb\">\n",
       "<tr><td>Test/accuracy</td><td>0.96</td></tr><tr><td>Test/accuracy/HEALTHY</td><td>1.0</td></tr><tr><td>Test/accuracy/SICK</td><td>0.95</td></tr><tr><td>Train/accuracy</td><td>1.0</td></tr><tr><td>Train/accuracy/HEALTHY</td><td>1.0</td></tr><tr><td>Train/accuracy/SICK</td><td>1.0</td></tr><tr><td>Train/loss</td><td>0.04928</td></tr><tr><td>model_accuracy</td><td>0.97</td></tr></table>"
      ],
      "text/plain": [
       "<IPython.core.display.HTML object>"
      ]
     },
     "metadata": {},
     "output_type": "display_data"
    },
    {
     "data": {
      "text/html": [
       "<h3>Run history:</h3><br/><style>\n",
       "    table.wandb td:nth-child(1) { padding: 0 10px; text-align: right }\n",
       "    </style><table class=\"wandb\">\n",
       "<tr><td>Test/accuracy</td><td>▁▂▁▆█▂█▆▇▇▇▅█▇▇█▇▇█▇███▇█▇████▇▇▇▇███▇▇█</td></tr><tr><td>Test/accuracy/HEALTHY</td><td>████▅█▇▁█▇████████████████████████▇█████</td></tr><tr><td>Test/accuracy/SICK</td><td>▁▂▁▆█▂██▇█▇▅█▇▇█▇▇█▇███▇█▇████▇▇▇▇███▇▇█</td></tr><tr><td>Train/accuracy</td><td>▁▁▂▃▃▅▆▆▆▆▇█▇▄███▇██▆██▇▇█▇▇█▇▇████▇████</td></tr><tr><td>Train/accuracy/HEALTHY</td><td>▁▂▆▇█▇▇█▆▅▇██▃█████████▇███▇███████▇████</td></tr><tr><td>Train/accuracy/SICK</td><td>▇▆▁▂▁▅▅▅████▇███████▅███▇█▇███▇███▇█████</td></tr><tr><td>Train/loss</td><td>█▇▆▅▆▄▅▄▃▄▂▁▂▅▂▂▁▂▂▁▄▂▂▂▂▂▂▂▁▂▂▁▁▁▂▂▁▁▁▁</td></tr><tr><td>model_accuracy</td><td>▁</td></tr></table><br/>"
      ],
      "text/plain": [
       "<IPython.core.display.HTML object>"
      ]
     },
     "metadata": {},
     "output_type": "display_data"
    },
    {
     "data": {
      "text/html": [
       "Synced 6 W&B file(s), 0 media file(s), 0 artifact file(s) and 0 other file(s)"
      ],
      "text/plain": [
       "<IPython.core.display.HTML object>"
      ]
     },
     "metadata": {},
     "output_type": "display_data"
    },
    {
     "data": {
      "text/html": [
       "\n",
       "                    <br/>Synced <strong style=\"color:#cdcd00\">twilight-surf-117</strong>: <a href=\"https://wandb.ai/sgvdan/OCT-DL/runs/17j2g8lr\" target=\"_blank\">https://wandb.ai/sgvdan/OCT-DL/runs/17j2g8lr</a><br/>\n",
       "                "
      ],
      "text/plain": [
       "<IPython.core.display.HTML object>"
      ]
     },
     "metadata": {},
     "output_type": "display_data"
    }
   ],
   "source": [
    "### Parameters\n",
    "default_config = {'train_path': {'control': 'Data/train/control', 'study': 'Data/train/study'},\n",
    "                  'test_path': {'control': 'Data/test/control', 'study': 'Data/test/study'},\n",
    "                  \n",
    "                  'cache_path': './.cache-full',\n",
    "                  'refresh_cache': True,\n",
    "                  \n",
    "                  'input_size': (496, 1024), # Some samples are (496, 512)\n",
    "                  'model_name': 'vgg19_nominal',\n",
    "                  'epochs': 7,\n",
    "                  'lr': 1e-4,\n",
    "                  'batch_size': 50,\n",
    "\n",
    "                  'device': 'cuda',\n",
    "                  }\n",
    "\n",
    "### Subroutines\n",
    "def agent():\n",
    "    with wandb.init(project=\"OCT-DL\", config=default_config):\n",
    "        config = wandb.config\n",
    "        experiment = Experiment(config)\n",
    "        experiment.run()\n",
    "\n",
    "### Playground\n",
    "agent()"
   ]
  }
 ],
 "metadata": {
  "kernelspec": {
   "display_name": "Python 3",
   "language": "python",
   "name": "python3"
  },
  "language_info": {
   "codemirror_mode": {
    "name": "ipython",
    "version": 3
   },
   "file_extension": ".py",
   "mimetype": "text/x-python",
   "name": "python",
   "nbconvert_exporter": "python",
   "pygments_lexer": "ipython3",
   "version": "3.8.5"
  }
 },
 "nbformat": 4,
 "nbformat_minor": 4
}
