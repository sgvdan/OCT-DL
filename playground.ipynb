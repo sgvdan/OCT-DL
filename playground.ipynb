{
 "cells": [
  {
   "cell_type": "markdown",
   "metadata": {},
   "source": [
    "## OCT Playground\n",
    "Sandbox to play around with the different OCT Deep Learning Applications"
   ]
  },
  {
   "cell_type": "code",
   "execution_count": 3,
   "metadata": {
    "tags": []
   },
   "outputs": [
    {
     "name": "stderr",
     "output_type": "stream",
     "text": [
      "[autoreload of _pydevd_bundle.pydevd_frame failed: Traceback (most recent call last):\n",
      "  File \"/home/projects/ronen/sgvdan/.conda/envs/sgvdan-workspace/lib/python3.9/site-packages/IPython/extensions/autoreload.py\", line 245, in check\n",
      "    superreload(m, reload, self.old_objects)\n",
      "  File \"/home/projects/ronen/sgvdan/.conda/envs/sgvdan-workspace/lib/python3.9/site-packages/IPython/extensions/autoreload.py\", line 394, in superreload\n",
      "    module = reload(module)\n",
      "  File \"/home/projects/ronen/sgvdan/.conda/envs/sgvdan-workspace/lib/python3.9/imp.py\", line 314, in reload\n",
      "    return importlib.reload(module)\n",
      "  File \"/home/projects/ronen/sgvdan/.conda/envs/sgvdan-workspace/lib/python3.9/importlib/__init__.py\", line 169, in reload\n",
      "    _bootstrap._exec(spec, module)\n",
      "  File \"<frozen importlib._bootstrap>\", line 606, in _exec\n",
      "  File \"<frozen importlib._bootstrap>\", line 550, in _init_module_attrs\n",
      "  File \"<frozen importlib._bootstrap>\", line 391, in cached\n",
      "  File \"<frozen importlib._bootstrap_external>\", line 494, in _get_cached\n",
      "  File \"<frozen importlib._bootstrap_external>\", line 387, in cache_from_source\n",
      "  File \"<frozen importlib._bootstrap_external>\", line 129, in _path_split\n",
      "NameError: name 'NO_FTRACE' is not defined\n",
      "]\n",
      "[autoreload of pydevd failed: Traceback (most recent call last):\n",
      "  File \"/home/projects/ronen/sgvdan/.conda/envs/sgvdan-workspace/lib/python3.9/site-packages/IPython/extensions/autoreload.py\", line 245, in check\n",
      "    superreload(m, reload, self.old_objects)\n",
      "  File \"/home/projects/ronen/sgvdan/.conda/envs/sgvdan-workspace/lib/python3.9/site-packages/IPython/extensions/autoreload.py\", line 410, in superreload\n",
      "    update_generic(old_obj, new_obj)\n",
      "  File \"/home/projects/ronen/sgvdan/.conda/envs/sgvdan-workspace/lib/python3.9/site-packages/IPython/extensions/autoreload.py\", line 347, in update_generic\n",
      "    update(a, b)\n",
      "  File \"/home/projects/ronen/sgvdan/.conda/envs/sgvdan-workspace/lib/python3.9/site-packages/IPython/extensions/autoreload.py\", line 317, in update_class\n",
      "    update_instances(old, new)\n",
      "  File \"/home/projects/ronen/sgvdan/.conda/envs/sgvdan-workspace/lib/python3.9/site-packages/IPython/extensions/autoreload.py\", line 280, in update_instances\n",
      "    ref.__class__ = new\n",
      "TypeError: __class__ assignment: 'ThreadsSuspendedSingleNotification' object layout differs from 'ThreadsSuspendedSingleNotification'\n",
      "]\n"
     ]
    },
    {
     "name": "stdout",
     "output_type": "stream",
     "text": [
      "Thu Nov 11 15:43:19 2021       \r\n",
      "+-----------------------------------------------------------------------------+\r\n",
      "| NVIDIA-SMI 450.102.04   Driver Version: 450.102.04   CUDA Version: 11.0     |\r\n",
      "|-------------------------------+----------------------+----------------------+\r\n",
      "| GPU  Name        Persistence-M| Bus-Id        Disp.A | Volatile Uncorr. ECC |\r\n",
      "| Fan  Temp  Perf  Pwr:Usage/Cap|         Memory-Usage | GPU-Util  Compute M. |\r\n",
      "|                               |                      |               MIG M. |\r\n",
      "|===============================+======================+======================|\r\n",
      "|   0  Tesla V100-SXM2...  On   | 00000000:86:00.0 Off |                    0 |\r\n",
      "| N/A   39C    P0    43W / 300W |      0MiB / 32510MiB |      0%      Default |\r\n",
      "|                               |                      |                  N/A |\r\n",
      "+-------------------------------+----------------------+----------------------+\r\n",
      "                                                                               \r\n",
      "+-----------------------------------------------------------------------------+\r\n",
      "| Processes:                                                                  |\r\n",
      "|  GPU   GI   CI        PID   Type   Process name                  GPU Memory |\r\n",
      "|        ID   ID                                                   Usage      |\r\n",
      "|=============================================================================|\r\n",
      "|  No running processes found                                                 |\r\n",
      "+-----------------------------------------------------------------------------+\r\n",
      "The autoreload extension is already loaded. To reload it, use:\n",
      "  %reload_ext autoreload\n"
     ]
    },
    {
     "ename": "ModuleNotFoundError",
     "evalue": "No module named 'wandb'",
     "output_type": "error",
     "traceback": [
      "\u001B[0;31m---------------------------------------------------------------------------\u001B[0m",
      "\u001B[0;31mModuleNotFoundError\u001B[0m                       Traceback (most recent call last)",
      "\u001B[0;32m/tmp/ipykernel_61466/3186092873.py\u001B[0m in \u001B[0;36m<module>\u001B[0;34m\u001B[0m\n\u001B[1;32m     11\u001B[0m \u001B[0;31m# Imports\u001B[0m\u001B[0;34m\u001B[0m\u001B[0;34m\u001B[0m\u001B[0m\n\u001B[1;32m     12\u001B[0m \u001B[0;32mimport\u001B[0m \u001B[0mmath\u001B[0m\u001B[0;34m\u001B[0m\u001B[0;34m\u001B[0m\u001B[0m\n\u001B[0;32m---> 13\u001B[0;31m \u001B[0;32mimport\u001B[0m \u001B[0mwandb\u001B[0m\u001B[0;34m\u001B[0m\u001B[0;34m\u001B[0m\u001B[0m\n\u001B[0m\u001B[1;32m     14\u001B[0m \u001B[0mwandb\u001B[0m\u001B[0;34m.\u001B[0m\u001B[0mlogin\u001B[0m\u001B[0;34m(\u001B[0m\u001B[0;34m)\u001B[0m\u001B[0;34m\u001B[0m\u001B[0;34m\u001B[0m\u001B[0m\n\u001B[1;32m     15\u001B[0m \u001B[0;32mfrom\u001B[0m \u001B[0mexperiment\u001B[0m \u001B[0;32mimport\u001B[0m \u001B[0mExperiment\u001B[0m\u001B[0;34m\u001B[0m\u001B[0;34m\u001B[0m\u001B[0m\n",
      "\u001B[0;31mModuleNotFoundError\u001B[0m: No module named 'wandb'"
     ]
    }
   ],
   "source": [
    "### Init\n",
    "\n",
    "# Show Resources\n",
    "!nvidia-smi\n",
    "\n",
    "# Auto reload\n",
    "%load_ext autoreload\n",
    "%autoreload 2\n",
    "\n",
    "# Imports\n",
    "import math\n",
    "import wandb\n",
    "wandb.login()\n",
    "from experiment import Experiment"
   ]
  },
  {
   "cell_type": "code",
   "execution_count": null,
   "metadata": {},
   "outputs": [
    {
     "data": {
      "text/html": [
       "\n",
       "                    Syncing run <strong><a href=\"https://wandb.ai/sgvdan/OCT-DL/runs/ilnwfi7i\" target=\"_blank\">summer-pyramid-134</a></strong> to <a href=\"https://wandb.ai/sgvdan/OCT-DL\" target=\"_blank\">Weights & Biases</a> (<a href=\"https://docs.wandb.com/integrations/jupyter.html\" target=\"_blank\">docs</a>).<br/>\n",
       "\n",
       "                "
      ],
      "text/plain": [
       "<IPython.core.display.HTML object>"
      ]
     },
     "metadata": {},
     "output_type": "display_data"
    },
    {
     "name": "stderr",
     "output_type": "stream",
     "text": [
      " 39%|███▉      | 48/123 [01:49<02:09,  1.73s/it]"
     ]
    }
   ],
   "source": [
    "### Parameters\n",
    "default_config = {'dataset_control_path': 'Data/control',\n",
    "                  'dataset_study_path': 'Data/study',\n",
    "                  \n",
    "                  'refresh_cache': True, # Assign to True if looking to create a new cache\n",
    "                  'cache_name': 'small', # Choose/Assign a name to the cache used\n",
    "                  'control_limit': 300, 'study_limit': 600, # Control # of samples in a newly created cache\n",
    "                  \n",
    "                  'test_size': 0.2, 'validation_size': 0.15, 'training_size': 0.65, # Control train/validation/test ratios\n",
    "                  \n",
    "                  'input_size': (496, 1024), # Some samples are (496, 512)\n",
    "                  'model_name': 'vgg19_nominal',\n",
    "                  'epochs': 7,\n",
    "                  'lr': 1e-4,\n",
    "                  'batch_size': 50,\n",
    "\n",
    "                  'device': 'cuda',\n",
    "                  }\n",
    "\n",
    "### Subroutines\n",
    "def agent():\n",
    "    with wandb.init(project=\"OCT-DL\", config=default_config):\n",
    "        config = wandb.config\n",
    "        experiment = Experiment(config)\n",
    "        experiment.run()\n",
    "\n",
    "### Playground\n",
    "agent()"
   ]
  }
 ],
 "metadata": {
  "kernelspec": {
   "display_name": "Python 3 (ipykernel)",
   "language": "python",
   "name": "python3"
  },
  "language_info": {
   "codemirror_mode": {
    "name": "ipython",
    "version": 3
   },
   "file_extension": ".py",
   "mimetype": "text/x-python",
   "name": "python",
   "nbconvert_exporter": "python",
   "pygments_lexer": "ipython3",
   "version": "3.8.5"
  }
 },
 "nbformat": 4,
 "nbformat_minor": 4
}