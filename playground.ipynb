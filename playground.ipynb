{
 "cells": [
  {
   "cell_type": "markdown",
   "metadata": {},
   "source": [
    "## OCT Playground\n",
    "Sandbox to play around with the different OCT Deep Learning Applications"
   ]
  },
  {
   "cell_type": "code",
   "execution_count": 1,
   "metadata": {
    "tags": []
   },
   "outputs": [
    {
     "name": "stdout",
     "output_type": "stream",
     "text": [
      "Sat Oct  2 17:06:44 2021       \n",
      "+-----------------------------------------------------------------------------+\n",
      "| NVIDIA-SMI 455.45.01    Driver Version: 455.45.01    CUDA Version: 11.1     |\n",
      "|-------------------------------+----------------------+----------------------+\n",
      "| GPU  Name        Persistence-M| Bus-Id        Disp.A | Volatile Uncorr. ECC |\n",
      "| Fan  Temp  Perf  Pwr:Usage/Cap|         Memory-Usage | GPU-Util  Compute M. |\n",
      "|                               |                      |               MIG M. |\n",
      "|===============================+======================+======================|\n",
      "|   0  Quadro RTX 8000     Off  | 00000000:39:00.0 Off |                  Off |\n",
      "| 33%   27C    P8    12W / 260W |      0MiB / 48601MiB |      0%      Default |\n",
      "|                               |                      |                  N/A |\n",
      "+-------------------------------+----------------------+----------------------+\n",
      "                                                                               \n",
      "+-----------------------------------------------------------------------------+\n",
      "| Processes:                                                                  |\n",
      "|  GPU   GI   CI        PID   Type   Process name                  GPU Memory |\n",
      "|        ID   ID                                                   Usage      |\n",
      "|=============================================================================|\n",
      "|  No running processes found                                                 |\n",
      "+-----------------------------------------------------------------------------+\n"
     ]
    },
    {
     "name": "stderr",
     "output_type": "stream",
     "text": [
      "\u001b[34m\u001b[1mwandb\u001b[0m: Currently logged in as: \u001b[33msgvdan\u001b[0m (use `wandb login --relogin` to force relogin)\n"
     ]
    }
   ],
   "source": [
    "### Init\n",
    "\n",
    "# Show Resources\n",
    "!nvidia-smi\n",
    "\n",
    "# Auto reload\n",
    "%load_ext autoreload\n",
    "%autoreload 2\n",
    "\n",
    "# Imports\n",
    "import wandb\n",
    "wandb.login()\n",
    "from experiment import Experiment"
   ]
  },
  {
   "cell_type": "code",
   "execution_count": 3,
   "metadata": {},
   "outputs": [
    {
     "name": "stderr",
     "output_type": "stream",
     "text": [
      "\u001b[34m\u001b[1mwandb\u001b[0m: wandb version 0.12.3 is available!  To upgrade, please run:\n",
      "\u001b[34m\u001b[1mwandb\u001b[0m:  $ pip install wandb --upgrade\n"
     ]
    },
    {
     "data": {
      "text/html": [
       "\n",
       "                Tracking run with wandb version 0.12.2<br/>\n",
       "                Syncing run <strong style=\"color:#cdcd00\">happy-snow-118</strong> to <a href=\"https://wandb.ai\" target=\"_blank\">Weights & Biases</a> <a href=\"https://docs.wandb.com/integrations/jupyter.html\" target=\"_blank\">(Documentation)</a>.<br/>\n",
       "                Project page: <a href=\"https://wandb.ai/sgvdan/OCT-DL\" target=\"_blank\">https://wandb.ai/sgvdan/OCT-DL</a><br/>\n",
       "                Run page: <a href=\"https://wandb.ai/sgvdan/OCT-DL/runs/jjkqsvfi\" target=\"_blank\">https://wandb.ai/sgvdan/OCT-DL/runs/jjkqsvfi</a><br/>\n",
       "                Run data is saved locally in <code>/home/labs/waic/sgvdan/workspace/OCT-DL/wandb/run-20211002_172552-jjkqsvfi</code><br/><br/>\n",
       "            "
      ],
      "text/plain": [
       "<IPython.core.display.HTML object>"
      ]
     },
     "metadata": {},
     "output_type": "display_data"
    },
    {
     "name": "stderr",
     "output_type": "stream",
     "text": [
      "100%|██████████| 115/115 [03:27<00:00,  1.80s/it]\n",
      "  6%|▌         | 36/647 [02:37<42:45,  4.20s/it]  "
     ]
    },
    {
     "name": "stdout",
     "output_type": "stream",
     "text": [
      "An exception of type RuntimeError occurred. Arguments:\n",
      "(\"The expanded size of the tensor (-1) isn't allowed in a leading, non-existing dimension 1\",)\n",
      "Ignored volume 2 in sample Data/train/study/DR_03479/DR_03479.E2E/DR_0301D.E2E - type match error\n",
      "An exception of type RuntimeError occurred. Arguments:\n",
      "(\"The expanded size of the tensor (-1) isn't allowed in a leading, non-existing dimension 1\",)\n",
      "Ignored volume 2 in sample Data/train/study/DR_03479/DR_03479.E2E/DR_0301D.E2E - type match error\n"
     ]
    },
    {
     "name": "stderr",
     "output_type": "stream",
     "text": [
      "  6%|▌         | 38/647 [02:44<37:48,  3.73s/it]"
     ]
    },
    {
     "name": "stdout",
     "output_type": "stream",
     "text": [
      "An exception of type RuntimeError occurred. Arguments:\n",
      "(\"The expanded size of the tensor (-1) isn't allowed in a leading, non-existing dimension 1\",)\n",
      "Ignored volume 1 in sample Data/train/study/DR_03479/DR_03479.E2E/DR_0305D.E2E - type match error\n"
     ]
    },
    {
     "name": "stderr",
     "output_type": "stream",
     "text": [
      " 36%|███▋      | 236/647 [15:01<17:56,  2.62s/it]  "
     ]
    },
    {
     "name": "stdout",
     "output_type": "stream",
     "text": [
      "An exception of type RuntimeError occurred. Arguments:\n",
      "(\"The expanded size of the tensor (-1) isn't allowed in a leading, non-existing dimension 1\",)\n",
      "Ignored volume 0 in sample Data/train/study/DR_02079/DR_0212D.E2E - type match error\n",
      "An exception of type RuntimeError occurred. Arguments:\n",
      "(\"The expanded size of the tensor (-1) isn't allowed in a leading, non-existing dimension 1\",)\n",
      "Ignored volume 1 in sample Data/train/study/DR_02079/DR_0212D.E2E - type match error\n"
     ]
    },
    {
     "name": "stderr",
     "output_type": "stream",
     "text": [
      " 37%|███▋      | 239/647 [15:11<18:12,  2.68s/it]"
     ]
    },
    {
     "name": "stdout",
     "output_type": "stream",
     "text": [
      "An exception of type RuntimeError occurred. Arguments:\n",
      "(\"The expanded size of the tensor (-1) isn't allowed in a leading, non-existing dimension 1\",)\n",
      "Ignored volume 0 in sample Data/train/study/DR_02079/DR_0262D.E2E - type match error\n",
      "An exception of type RuntimeError occurred. Arguments:\n",
      "(\"The expanded size of the tensor (-1) isn't allowed in a leading, non-existing dimension 1\",)\n",
      "Ignored volume 1 in sample Data/train/study/DR_02079/DR_0262D.E2E - type match error\n"
     ]
    },
    {
     "name": "stderr",
     "output_type": "stream",
     "text": [
      " 37%|███▋      | 241/647 [15:15<14:38,  2.16s/it]"
     ]
    },
    {
     "name": "stdout",
     "output_type": "stream",
     "text": [
      "An exception of type RuntimeError occurred. Arguments:\n",
      "(\"The expanded size of the tensor (-1) isn't allowed in a leading, non-existing dimension 1\",)\n",
      "Ignored volume 0 in sample Data/train/study/DR_02079/DR_0283D.E2E - type match error\n",
      "An exception of type RuntimeError occurred. Arguments:\n",
      "(\"The expanded size of the tensor (-1) isn't allowed in a leading, non-existing dimension 1\",)\n",
      "Ignored volume 1 in sample Data/train/study/DR_02079/DR_0283D.E2E - type match error\n"
     ]
    },
    {
     "name": "stderr",
     "output_type": "stream",
     "text": [
      " 37%|███▋      | 242/647 [15:15<10:39,  1.58s/it]"
     ]
    },
    {
     "name": "stdout",
     "output_type": "stream",
     "text": [
      "An exception of type RuntimeError occurred. Arguments:\n",
      "(\"The expanded size of the tensor (-1) isn't allowed in a leading, non-existing dimension 1\",)\n",
      "Ignored volume 0 in sample Data/train/study/DR_02079/DR_0256D.E2E - type match error\n",
      "An exception of type RuntimeError occurred. Arguments:\n",
      "(\"The expanded size of the tensor (-1) isn't allowed in a leading, non-existing dimension 1\",)\n",
      "Ignored volume 1 in sample Data/train/study/DR_02079/DR_0256D.E2E - type match error\n"
     ]
    },
    {
     "name": "stderr",
     "output_type": "stream",
     "text": [
      " 38%|███▊      | 243/647 [15:15<07:53,  1.17s/it]"
     ]
    },
    {
     "name": "stdout",
     "output_type": "stream",
     "text": [
      "An exception of type RuntimeError occurred. Arguments:\n",
      "(\"The expanded size of the tensor (-1) isn't allowed in a leading, non-existing dimension 1\",)\n",
      "Ignored volume 0 in sample Data/train/study/DR_02079/DR_0208D.E2E - type match error\n",
      "An exception of type RuntimeError occurred. Arguments:\n",
      "(\"The expanded size of the tensor (-1) isn't allowed in a leading, non-existing dimension 1\",)\n",
      "Ignored volume 1 in sample Data/train/study/DR_02079/DR_0208D.E2E - type match error\n"
     ]
    },
    {
     "name": "stderr",
     "output_type": "stream",
     "text": [
      " 38%|███▊      | 249/647 [15:30<13:32,  2.04s/it]"
     ]
    },
    {
     "name": "stdout",
     "output_type": "stream",
     "text": [
      "An exception of type RuntimeError occurred. Arguments:\n",
      "(\"The expanded size of the tensor (-1) isn't allowed in a leading, non-existing dimension 1\",)\n",
      "Ignored volume 0 in sample Data/train/study/DR_02079/DR_0277D.E2E - type match error\n",
      "An exception of type RuntimeError occurred. Arguments:\n",
      "(\"The expanded size of the tensor (-1) isn't allowed in a leading, non-existing dimension 1\",)\n",
      "Ignored volume 1 in sample Data/train/study/DR_02079/DR_0277D.E2E - type match error\n"
     ]
    },
    {
     "name": "stderr",
     "output_type": "stream",
     "text": [
      " 39%|███▊      | 250/647 [15:30<09:55,  1.50s/it]"
     ]
    },
    {
     "name": "stdout",
     "output_type": "stream",
     "text": [
      "An exception of type RuntimeError occurred. Arguments:\n",
      "(\"The expanded size of the tensor (-1) isn't allowed in a leading, non-existing dimension 1\",)\n",
      "Ignored volume 0 in sample Data/train/study/DR_02079/DR_0218D.E2E - type match error\n",
      "An exception of type RuntimeError occurred. Arguments:\n",
      "(\"The expanded size of the tensor (-1) isn't allowed in a leading, non-existing dimension 1\",)\n",
      "Ignored volume 1 in sample Data/train/study/DR_02079/DR_0218D.E2E - type match error\n"
     ]
    },
    {
     "name": "stderr",
     "output_type": "stream",
     "text": [
      " 39%|███▉      | 252/647 [15:34<10:06,  1.54s/it]"
     ]
    },
    {
     "name": "stdout",
     "output_type": "stream",
     "text": [
      "An exception of type RuntimeError occurred. Arguments:\n",
      "(\"The expanded size of the tensor (-1) isn't allowed in a leading, non-existing dimension 1\",)\n",
      "Ignored volume 0 in sample Data/train/study/DR_02079/DR_0226D.E2E - type match error\n",
      "An exception of type RuntimeError occurred. Arguments:\n",
      "(\"The expanded size of the tensor (-1) isn't allowed in a leading, non-existing dimension 1\",)\n",
      "Ignored volume 1 in sample Data/train/study/DR_02079/DR_0226D.E2E - type match error\n"
     ]
    },
    {
     "name": "stderr",
     "output_type": "stream",
     "text": [
      " 39%|███▉      | 253/647 [15:34<07:29,  1.14s/it]"
     ]
    },
    {
     "name": "stdout",
     "output_type": "stream",
     "text": [
      "An exception of type RuntimeError occurred. Arguments:\n",
      "(\"The expanded size of the tensor (-1) isn't allowed in a leading, non-existing dimension 1\",)\n",
      "Ignored volume 0 in sample Data/train/study/DR_02079/DR_0293D.E2E - type match error\n",
      "An exception of type RuntimeError occurred. Arguments:\n",
      "(\"The expanded size of the tensor (-1) isn't allowed in a leading, non-existing dimension 1\",)\n",
      "Ignored volume 1 in sample Data/train/study/DR_02079/DR_0293D.E2E - type match error\n"
     ]
    },
    {
     "name": "stderr",
     "output_type": "stream",
     "text": [
      " 39%|███▉      | 254/647 [15:34<05:39,  1.16it/s]"
     ]
    },
    {
     "name": "stdout",
     "output_type": "stream",
     "text": [
      "An exception of type RuntimeError occurred. Arguments:\n",
      "(\"The expanded size of the tensor (-1) isn't allowed in a leading, non-existing dimension 1\",)\n",
      "Ignored volume 0 in sample Data/train/study/DR_02079/DR_0275D.E2E - type match error\n",
      "An exception of type RuntimeError occurred. Arguments:\n",
      "(\"The expanded size of the tensor (-1) isn't allowed in a leading, non-existing dimension 1\",)\n",
      "Ignored volume 1 in sample Data/train/study/DR_02079/DR_0275D.E2E - type match error\n"
     ]
    },
    {
     "name": "stderr",
     "output_type": "stream",
     "text": [
      " 39%|███▉      | 255/647 [15:34<04:22,  1.50it/s]"
     ]
    },
    {
     "name": "stdout",
     "output_type": "stream",
     "text": [
      "An exception of type RuntimeError occurred. Arguments:\n",
      "(\"The expanded size of the tensor (-1) isn't allowed in a leading, non-existing dimension 1\",)\n",
      "Ignored volume 1 in sample Data/train/study/DR_02079/DR_0232D.E2E - type match error\n",
      "An exception of type RuntimeError occurred. Arguments:\n",
      "(\"The expanded size of the tensor (-1) isn't allowed in a leading, non-existing dimension 1\",)\n",
      "Ignored volume 2 in sample Data/train/study/DR_02079/DR_0232D.E2E - type match error\n"
     ]
    },
    {
     "name": "stderr",
     "output_type": "stream",
     "text": [
      " 40%|███▉      | 256/647 [15:35<03:29,  1.87it/s]"
     ]
    },
    {
     "name": "stdout",
     "output_type": "stream",
     "text": [
      "An exception of type RuntimeError occurred. Arguments:\n",
      "(\"The expanded size of the tensor (-1) isn't allowed in a leading, non-existing dimension 1\",)\n",
      "Ignored volume 0 in sample Data/train/study/DR_02079/DR_0246D.E2E - type match error\n",
      "An exception of type RuntimeError occurred. Arguments:\n",
      "(\"The expanded size of the tensor (-1) isn't allowed in a leading, non-existing dimension 1\",)\n",
      "Ignored volume 1 in sample Data/train/study/DR_02079/DR_0246D.E2E - type match error\n"
     ]
    },
    {
     "name": "stderr",
     "output_type": "stream",
     "text": [
      " 40%|███▉      | 257/647 [15:35<02:51,  2.27it/s]"
     ]
    },
    {
     "name": "stdout",
     "output_type": "stream",
     "text": [
      "An exception of type RuntimeError occurred. Arguments:\n",
      "(\"The expanded size of the tensor (-1) isn't allowed in a leading, non-existing dimension 1\",)\n",
      "Ignored volume 0 in sample Data/train/study/DR_02079/DR_0224D.E2E - type match error\n",
      "An exception of type RuntimeError occurred. Arguments:\n",
      "(\"The expanded size of the tensor (-1) isn't allowed in a leading, non-existing dimension 1\",)\n",
      "Ignored volume 1 in sample Data/train/study/DR_02079/DR_0224D.E2E - type match error\n"
     ]
    },
    {
     "name": "stderr",
     "output_type": "stream",
     "text": [
      " 40%|████      | 260/647 [15:42<09:29,  1.47s/it]"
     ]
    },
    {
     "name": "stdout",
     "output_type": "stream",
     "text": [
      "An exception of type RuntimeError occurred. Arguments:\n",
      "(\"The expanded size of the tensor (-1) isn't allowed in a leading, non-existing dimension 1\",)\n",
      "Ignored volume 0 in sample Data/train/study/DR_02079/DR_0289D.E2E - type match error\n",
      "An exception of type RuntimeError occurred. Arguments:\n",
      "(\"The expanded size of the tensor (-1) isn't allowed in a leading, non-existing dimension 1\",)\n",
      "Ignored volume 1 in sample Data/train/study/DR_02079/DR_0289D.E2E - type match error\n"
     ]
    },
    {
     "name": "stderr",
     "output_type": "stream",
     "text": [
      " 41%|████      | 266/647 [16:00<15:03,  2.37s/it]"
     ]
    },
    {
     "name": "stdout",
     "output_type": "stream",
     "text": [
      "An exception of type RuntimeError occurred. Arguments:\n",
      "(\"The expanded size of the tensor (-1) isn't allowed in a leading, non-existing dimension 1\",)\n",
      "Ignored volume 0 in sample Data/train/study/DR_02079/DR_02105D.E2E - type match error\n",
      "An exception of type RuntimeError occurred. Arguments:\n",
      "(\"The expanded size of the tensor (-1) isn't allowed in a leading, non-existing dimension 1\",)\n",
      "Ignored volume 1 in sample Data/train/study/DR_02079/DR_02105D.E2E - type match error\n"
     ]
    },
    {
     "name": "stderr",
     "output_type": "stream",
     "text": [
      " 41%|████▏     | 268/647 [16:04<12:50,  2.03s/it]"
     ]
    },
    {
     "name": "stdout",
     "output_type": "stream",
     "text": [
      "An exception of type RuntimeError occurred. Arguments:\n",
      "(\"The expanded size of the tensor (-1) isn't allowed in a leading, non-existing dimension 1\",)\n",
      "Ignored volume 1 in sample Data/train/study/DR_02079/DR_02116D.E2E - type match error\n",
      "An exception of type RuntimeError occurred. Arguments:\n",
      "(\"The expanded size of the tensor (-1) isn't allowed in a leading, non-existing dimension 1\",)\n",
      "Ignored volume 2 in sample Data/train/study/DR_02079/DR_02116D.E2E - type match error\n"
     ]
    },
    {
     "name": "stderr",
     "output_type": "stream",
     "text": [
      " 42%|████▏     | 272/647 [16:16<14:03,  2.25s/it]"
     ]
    },
    {
     "name": "stdout",
     "output_type": "stream",
     "text": [
      "An exception of type RuntimeError occurred. Arguments:\n",
      "(\"The expanded size of the tensor (-1) isn't allowed in a leading, non-existing dimension 1\",)\n",
      "Ignored volume 0 in sample Data/train/study/DR_02079/DR_02108D.E2E - type match error\n",
      "An exception of type RuntimeError occurred. Arguments:\n",
      "(\"The expanded size of the tensor (-1) isn't allowed in a leading, non-existing dimension 1\",)\n",
      "Ignored volume 1 in sample Data/train/study/DR_02079/DR_02108D.E2E - type match error\n"
     ]
    },
    {
     "name": "stderr",
     "output_type": "stream",
     "text": [
      " 43%|████▎     | 275/647 [16:23<13:26,  2.17s/it]"
     ]
    },
    {
     "name": "stdout",
     "output_type": "stream",
     "text": [
      "An exception of type RuntimeError occurred. Arguments:\n",
      "(\"The expanded size of the tensor (-1) isn't allowed in a leading, non-existing dimension 1\",)\n",
      "Ignored volume 0 in sample Data/train/study/DR_02079/DR_0281D.E2E - type match error\n",
      "An exception of type RuntimeError occurred. Arguments:\n",
      "(\"The expanded size of the tensor (-1) isn't allowed in a leading, non-existing dimension 1\",)\n",
      "Ignored volume 1 in sample Data/train/study/DR_02079/DR_0281D.E2E - type match error\n"
     ]
    },
    {
     "name": "stderr",
     "output_type": "stream",
     "text": [
      " 43%|████▎     | 278/647 [16:31<13:12,  2.15s/it]"
     ]
    },
    {
     "name": "stdout",
     "output_type": "stream",
     "text": [
      "An exception of type RuntimeError occurred. Arguments:\n",
      "(\"The expanded size of the tensor (-1) isn't allowed in a leading, non-existing dimension 1\",)\n",
      "Ignored volume 0 in sample Data/train/study/DR_02079/DR_0252D.E2E - type match error\n",
      "An exception of type RuntimeError occurred. Arguments:\n",
      "(\"The expanded size of the tensor (-1) isn't allowed in a leading, non-existing dimension 1\",)\n",
      "Ignored volume 1 in sample Data/train/study/DR_02079/DR_0252D.E2E - type match error\n"
     ]
    },
    {
     "name": "stderr",
     "output_type": "stream",
     "text": [
      " 43%|████▎     | 279/647 [16:31<09:38,  1.57s/it]"
     ]
    },
    {
     "name": "stdout",
     "output_type": "stream",
     "text": [
      "An exception of type RuntimeError occurred. Arguments:\n",
      "(\"The expanded size of the tensor (-1) isn't allowed in a leading, non-existing dimension 1\",)\n",
      "Ignored volume 0 in sample Data/train/study/DR_02079/DR_0299D.E2E - type match error\n",
      "An exception of type RuntimeError occurred. Arguments:\n",
      "(\"The expanded size of the tensor (-1) isn't allowed in a leading, non-existing dimension 1\",)\n",
      "Ignored volume 1 in sample Data/train/study/DR_02079/DR_0299D.E2E - type match error\n"
     ]
    },
    {
     "name": "stderr",
     "output_type": "stream",
     "text": [
      " 43%|████▎     | 280/647 [16:31<07:08,  1.17s/it]"
     ]
    },
    {
     "name": "stdout",
     "output_type": "stream",
     "text": [
      "An exception of type RuntimeError occurred. Arguments:\n",
      "(\"The expanded size of the tensor (-1) isn't allowed in a leading, non-existing dimension 1\",)\n",
      "Ignored volume 0 in sample Data/train/study/DR_02079/DR_0254D.E2E - type match error\n",
      "An exception of type RuntimeError occurred. Arguments:\n",
      "(\"The expanded size of the tensor (-1) isn't allowed in a leading, non-existing dimension 1\",)\n",
      "Ignored volume 1 in sample Data/train/study/DR_02079/DR_0254D.E2E - type match error\n"
     ]
    },
    {
     "name": "stderr",
     "output_type": "stream",
     "text": [
      " 44%|████▍     | 287/647 [16:56<16:29,  2.75s/it]"
     ]
    },
    {
     "name": "stdout",
     "output_type": "stream",
     "text": [
      "An exception of type RuntimeError occurred. Arguments:\n",
      "(\"The expanded size of the tensor (-1) isn't allowed in a leading, non-existing dimension 1\",)\n",
      "Ignored volume 0 in sample Data/train/study/DR_02079/DR_0264D.E2E - type match error\n",
      "An exception of type RuntimeError occurred. Arguments:\n",
      "(\"The expanded size of the tensor (-1) isn't allowed in a leading, non-existing dimension 1\",)\n",
      "Ignored volume 1 in sample Data/train/study/DR_02079/DR_0264D.E2E - type match error\n"
     ]
    },
    {
     "name": "stderr",
     "output_type": "stream",
     "text": [
      " 45%|████▍     | 288/647 [16:57<11:54,  1.99s/it]"
     ]
    },
    {
     "name": "stdout",
     "output_type": "stream",
     "text": [
      "An exception of type RuntimeError occurred. Arguments:\n",
      "(\"The expanded size of the tensor (-1) isn't allowed in a leading, non-existing dimension 1\",)\n",
      "Ignored volume 0 in sample Data/train/study/DR_02079/DR_0228D.E2E - type match error\n",
      "An exception of type RuntimeError occurred. Arguments:\n",
      "(\"The expanded size of the tensor (-1) isn't allowed in a leading, non-existing dimension 1\",)\n",
      "Ignored volume 1 in sample Data/train/study/DR_02079/DR_0228D.E2E - type match error\n"
     ]
    },
    {
     "name": "stderr",
     "output_type": "stream",
     "text": [
      " 45%|████▍     | 289/647 [16:57<08:42,  1.46s/it]"
     ]
    },
    {
     "name": "stdout",
     "output_type": "stream",
     "text": [
      "An exception of type RuntimeError occurred. Arguments:\n",
      "(\"The expanded size of the tensor (-1) isn't allowed in a leading, non-existing dimension 1\",)\n",
      "Ignored volume 1 in sample Data/train/study/DR_02079/DR_02110D.E2E - type match error\n",
      "An exception of type RuntimeError occurred. Arguments:\n",
      "(\"The expanded size of the tensor (-1) isn't allowed in a leading, non-existing dimension 1\",)\n",
      "Ignored volume 2 in sample Data/train/study/DR_02079/DR_02110D.E2E - type match error\n"
     ]
    },
    {
     "name": "stderr",
     "output_type": "stream",
     "text": [
      " 45%|████▍     | 290/647 [16:57<06:28,  1.09s/it]"
     ]
    },
    {
     "name": "stdout",
     "output_type": "stream",
     "text": [
      "An exception of type RuntimeError occurred. Arguments:\n",
      "(\"The expanded size of the tensor (-1) isn't allowed in a leading, non-existing dimension 1\",)\n",
      "Ignored volume 0 in sample Data/train/study/DR_02079/DR_0216D.E2E - type match error\n",
      "An exception of type RuntimeError occurred. Arguments:\n",
      "(\"The expanded size of the tensor (-1) isn't allowed in a leading, non-existing dimension 1\",)\n",
      "Ignored volume 1 in sample Data/train/study/DR_02079/DR_0216D.E2E - type match error\n"
     ]
    },
    {
     "name": "stderr",
     "output_type": "stream",
     "text": [
      " 45%|████▍     | 291/647 [16:57<04:54,  1.21it/s]"
     ]
    },
    {
     "name": "stdout",
     "output_type": "stream",
     "text": [
      "An exception of type RuntimeError occurred. Arguments:\n",
      "(\"The expanded size of the tensor (-1) isn't allowed in a leading, non-existing dimension 1\",)\n",
      "Ignored volume 0 in sample Data/train/study/DR_02079/DR_0269D.E2E - type match error\n",
      "An exception of type RuntimeError occurred. Arguments:\n",
      "(\"The expanded size of the tensor (-1) isn't allowed in a leading, non-existing dimension 1\",)\n",
      "Ignored volume 1 in sample Data/train/study/DR_02079/DR_0269D.E2E - type match error\n"
     ]
    },
    {
     "name": "stderr",
     "output_type": "stream",
     "text": [
      " 45%|████▌     | 292/647 [16:57<03:48,  1.55it/s]"
     ]
    },
    {
     "name": "stdout",
     "output_type": "stream",
     "text": [
      "An exception of type RuntimeError occurred. Arguments:\n",
      "(\"The expanded size of the tensor (-1) isn't allowed in a leading, non-existing dimension 1\",)\n",
      "Ignored volume 0 in sample Data/train/study/DR_02079/DR_0279D.E2E - type match error\n",
      "An exception of type RuntimeError occurred. Arguments:\n",
      "(\"The expanded size of the tensor (-1) isn't allowed in a leading, non-existing dimension 1\",)\n",
      "Ignored volume 1 in sample Data/train/study/DR_02079/DR_0279D.E2E - type match error\n"
     ]
    },
    {
     "name": "stderr",
     "output_type": "stream",
     "text": [
      " 45%|████▌     | 293/647 [16:58<03:04,  1.92it/s]"
     ]
    },
    {
     "name": "stdout",
     "output_type": "stream",
     "text": [
      "An exception of type RuntimeError occurred. Arguments:\n",
      "(\"The expanded size of the tensor (-1) isn't allowed in a leading, non-existing dimension 1\",)\n",
      "Ignored volume 0 in sample Data/train/study/DR_02079/DR_0287D.E2E - type match error\n",
      "An exception of type RuntimeError occurred. Arguments:\n",
      "(\"The expanded size of the tensor (-1) isn't allowed in a leading, non-existing dimension 1\",)\n",
      "Ignored volume 1 in sample Data/train/study/DR_02079/DR_0287D.E2E - type match error\n"
     ]
    },
    {
     "name": "stderr",
     "output_type": "stream",
     "text": [
      " 45%|████▌     | 294/647 [16:58<02:32,  2.31it/s]"
     ]
    },
    {
     "name": "stdout",
     "output_type": "stream",
     "text": [
      "An exception of type RuntimeError occurred. Arguments:\n",
      "(\"The expanded size of the tensor (-1) isn't allowed in a leading, non-existing dimension 1\",)\n",
      "Ignored volume 0 in sample Data/train/study/DR_02079/DR_0206D.E2E - type match error\n",
      "An exception of type RuntimeError occurred. Arguments:\n",
      "(\"The expanded size of the tensor (-1) isn't allowed in a leading, non-existing dimension 1\",)\n",
      "Ignored volume 1 in sample Data/train/study/DR_02079/DR_0206D.E2E - type match error\n"
     ]
    },
    {
     "name": "stderr",
     "output_type": "stream",
     "text": [
      " 46%|████▌     | 295/647 [16:58<02:09,  2.71it/s]"
     ]
    },
    {
     "name": "stdout",
     "output_type": "stream",
     "text": [
      "An exception of type RuntimeError occurred. Arguments:\n",
      "(\"The expanded size of the tensor (-1) isn't allowed in a leading, non-existing dimension 1\",)\n",
      "Ignored volume 0 in sample Data/train/study/DR_02079/DR_0214D.E2E - type match error\n",
      "An exception of type RuntimeError occurred. Arguments:\n",
      "(\"The expanded size of the tensor (-1) isn't allowed in a leading, non-existing dimension 1\",)\n",
      "Ignored volume 1 in sample Data/train/study/DR_02079/DR_0214D.E2E - type match error\n"
     ]
    },
    {
     "name": "stderr",
     "output_type": "stream",
     "text": [
      " 46%|████▌     | 296/647 [16:58<01:54,  3.08it/s]"
     ]
    },
    {
     "name": "stdout",
     "output_type": "stream",
     "text": [
      "An exception of type RuntimeError occurred. Arguments:\n",
      "(\"The expanded size of the tensor (-1) isn't allowed in a leading, non-existing dimension 1\",)\n",
      "Ignored volume 0 in sample Data/train/study/DR_02079/DR_0248D.E2E - type match error\n",
      "An exception of type RuntimeError occurred. Arguments:\n",
      "(\"The expanded size of the tensor (-1) isn't allowed in a leading, non-existing dimension 1\",)\n",
      "Ignored volume 1 in sample Data/train/study/DR_02079/DR_0248D.E2E - type match error\n"
     ]
    },
    {
     "name": "stderr",
     "output_type": "stream",
     "text": [
      " 46%|████▌     | 297/647 [16:59<01:42,  3.41it/s]"
     ]
    },
    {
     "name": "stdout",
     "output_type": "stream",
     "text": [
      "An exception of type RuntimeError occurred. Arguments:\n",
      "(\"The expanded size of the tensor (-1) isn't allowed in a leading, non-existing dimension 1\",)\n",
      "Ignored volume 0 in sample Data/train/study/DR_02079/DR_0236D.E2E - type match error\n",
      "An exception of type RuntimeError occurred. Arguments:\n",
      "(\"The expanded size of the tensor (-1) isn't allowed in a leading, non-existing dimension 1\",)\n",
      "Ignored volume 1 in sample Data/train/study/DR_02079/DR_0236D.E2E - type match error\n"
     ]
    },
    {
     "name": "stderr",
     "output_type": "stream",
     "text": [
      " 46%|████▌     | 298/647 [16:59<01:34,  3.70it/s]"
     ]
    },
    {
     "name": "stdout",
     "output_type": "stream",
     "text": [
      "An exception of type RuntimeError occurred. Arguments:\n",
      "(\"The expanded size of the tensor (-1) isn't allowed in a leading, non-existing dimension 1\",)\n",
      "Ignored volume 0 in sample Data/train/study/DR_02079/DR_0285D.E2E - type match error\n",
      "An exception of type RuntimeError occurred. Arguments:\n",
      "(\"The expanded size of the tensor (-1) isn't allowed in a leading, non-existing dimension 1\",)\n",
      "Ignored volume 1 in sample Data/train/study/DR_02079/DR_0285D.E2E - type match error\n"
     ]
    },
    {
     "name": "stderr",
     "output_type": "stream",
     "text": [
      " 46%|████▌     | 299/647 [16:59<01:32,  3.76it/s]"
     ]
    },
    {
     "name": "stdout",
     "output_type": "stream",
     "text": [
      "An exception of type RuntimeError occurred. Arguments:\n",
      "(\"The expanded size of the tensor (-1) isn't allowed in a leading, non-existing dimension 1\",)\n",
      "Ignored volume 1 in sample Data/train/study/DR_02079/DR_0266D.E2E - type match error\n",
      "An exception of type RuntimeError occurred. Arguments:\n",
      "(\"The expanded size of the tensor (-1) isn't allowed in a leading, non-existing dimension 1\",)\n",
      "Ignored volume 2 in sample Data/train/study/DR_02079/DR_0266D.E2E - type match error\n"
     ]
    },
    {
     "name": "stderr",
     "output_type": "stream",
     "text": [
      " 46%|████▋     | 300/647 [16:59<01:27,  3.95it/s]"
     ]
    },
    {
     "name": "stdout",
     "output_type": "stream",
     "text": [
      "An exception of type RuntimeError occurred. Arguments:\n",
      "(\"The expanded size of the tensor (-1) isn't allowed in a leading, non-existing dimension 1\",)\n",
      "Ignored volume 0 in sample Data/train/study/DR_02079/DR_0271D.E2E - type match error\n",
      "An exception of type RuntimeError occurred. Arguments:\n",
      "(\"The expanded size of the tensor (-1) isn't allowed in a leading, non-existing dimension 1\",)\n",
      "Ignored volume 1 in sample Data/train/study/DR_02079/DR_0271D.E2E - type match error\n"
     ]
    },
    {
     "name": "stderr",
     "output_type": "stream",
     "text": [
      " 47%|████▋     | 301/647 [16:59<01:23,  4.13it/s]"
     ]
    },
    {
     "name": "stdout",
     "output_type": "stream",
     "text": [
      "An exception of type RuntimeError occurred. Arguments:\n",
      "(\"The expanded size of the tensor (-1) isn't allowed in a leading, non-existing dimension 1\",)\n",
      "Ignored volume 1 in sample Data/train/study/DR_02079/DR_0267D.E2E - type match error\n",
      "An exception of type RuntimeError occurred. Arguments:\n",
      "(\"The expanded size of the tensor (-1) isn't allowed in a leading, non-existing dimension 1\",)\n",
      "Ignored volume 2 in sample Data/train/study/DR_02079/DR_0267D.E2E - type match error\n"
     ]
    },
    {
     "name": "stderr",
     "output_type": "stream",
     "text": [
      " 47%|████▋     | 303/647 [17:03<05:42,  1.01it/s]"
     ]
    },
    {
     "name": "stdout",
     "output_type": "stream",
     "text": [
      "An exception of type RuntimeError occurred. Arguments:\n",
      "(\"The expanded size of the tensor (-1) isn't allowed in a leading, non-existing dimension 1\",)\n",
      "Ignored volume 0 in sample Data/train/study/DR_02079/DR_02101D.E2E - type match error\n",
      "An exception of type RuntimeError occurred. Arguments:\n",
      "(\"The expanded size of the tensor (-1) isn't allowed in a leading, non-existing dimension 1\",)\n",
      "Ignored volume 1 in sample Data/train/study/DR_02079/DR_02101D.E2E - type match error\n"
     ]
    },
    {
     "name": "stderr",
     "output_type": "stream",
     "text": [
      " 47%|████▋     | 307/647 [17:14<11:04,  1.95s/it]"
     ]
    },
    {
     "name": "stdout",
     "output_type": "stream",
     "text": [
      "An exception of type RuntimeError occurred. Arguments:\n",
      "(\"The expanded size of the tensor (-1) isn't allowed in a leading, non-existing dimension 1\",)\n",
      "Ignored volume 0 in sample Data/train/study/DR_02079/DR_02103D.E2E - type match error\n",
      "An exception of type RuntimeError occurred. Arguments:\n",
      "(\"The expanded size of the tensor (-1) isn't allowed in a leading, non-existing dimension 1\",)\n",
      "Ignored volume 1 in sample Data/train/study/DR_02079/DR_02103D.E2E - type match error\n"
     ]
    },
    {
     "name": "stderr",
     "output_type": "stream",
     "text": [
      " 48%|████▊     | 308/647 [17:14<08:05,  1.43s/it]"
     ]
    },
    {
     "name": "stdout",
     "output_type": "stream",
     "text": [
      "An exception of type RuntimeError occurred. Arguments:\n",
      "(\"The expanded size of the tensor (-1) isn't allowed in a leading, non-existing dimension 1\",)\n",
      "Ignored volume 0 in sample Data/train/study/DR_02079/DR_0260D.E2E - type match error\n",
      "An exception of type RuntimeError occurred. Arguments:\n",
      "(\"The expanded size of the tensor (-1) isn't allowed in a leading, non-existing dimension 1\",)\n",
      "Ignored volume 1 in sample Data/train/study/DR_02079/DR_0260D.E2E - type match error\n"
     ]
    },
    {
     "name": "stderr",
     "output_type": "stream",
     "text": [
      " 48%|████▊     | 311/647 [17:22<10:48,  1.93s/it]"
     ]
    },
    {
     "name": "stdout",
     "output_type": "stream",
     "text": [
      "An exception of type RuntimeError occurred. Arguments:\n",
      "(\"The expanded size of the tensor (-1) isn't allowed in a leading, non-existing dimension 1\",)\n",
      "Ignored volume 0 in sample Data/train/study/DR_02079/DR_0238D.E2E - type match error\n",
      "An exception of type RuntimeError occurred. Arguments:\n",
      "(\"The expanded size of the tensor (-1) isn't allowed in a leading, non-existing dimension 1\",)\n",
      "Ignored volume 1 in sample Data/train/study/DR_02079/DR_0238D.E2E - type match error\n"
     ]
    },
    {
     "name": "stderr",
     "output_type": "stream",
     "text": [
      " 49%|████▉     | 316/647 [17:42<14:53,  2.70s/it]"
     ]
    },
    {
     "name": "stdout",
     "output_type": "stream",
     "text": [
      "An exception of type RuntimeError occurred. Arguments:\n",
      "(\"The expanded size of the tensor (-1) isn't allowed in a leading, non-existing dimension 1\",)\n",
      "Ignored volume 1 in sample Data/train/study/DR_02079/DR_0240D.E2E - type match error\n",
      "An exception of type RuntimeError occurred. Arguments:\n",
      "(\"The expanded size of the tensor (-1) isn't allowed in a leading, non-existing dimension 1\",)\n",
      "Ignored volume 2 in sample Data/train/study/DR_02079/DR_0240D.E2E - type match error\n"
     ]
    },
    {
     "name": "stderr",
     "output_type": "stream",
     "text": [
      " 49%|████▉     | 317/647 [17:42<10:46,  1.96s/it]"
     ]
    },
    {
     "name": "stdout",
     "output_type": "stream",
     "text": [
      "An exception of type RuntimeError occurred. Arguments:\n",
      "(\"The expanded size of the tensor (-1) isn't allowed in a leading, non-existing dimension 1\",)\n",
      "Ignored volume 0 in sample Data/train/study/DR_02079/DR_0291D.E2E - type match error\n",
      "An exception of type RuntimeError occurred. Arguments:\n",
      "(\"The expanded size of the tensor (-1) isn't allowed in a leading, non-existing dimension 1\",)\n",
      "Ignored volume 1 in sample Data/train/study/DR_02079/DR_0291D.E2E - type match error\n"
     ]
    },
    {
     "name": "stderr",
     "output_type": "stream",
     "text": [
      " 49%|████▉     | 318/647 [17:42<07:53,  1.44s/it]"
     ]
    },
    {
     "name": "stdout",
     "output_type": "stream",
     "text": [
      "An exception of type RuntimeError occurred. Arguments:\n",
      "(\"The expanded size of the tensor (-1) isn't allowed in a leading, non-existing dimension 1\",)\n",
      "Ignored volume 1 in sample Data/train/study/DR_02079/DR_0234D.E2E - type match error\n",
      "An exception of type RuntimeError occurred. Arguments:\n",
      "(\"The expanded size of the tensor (-1) isn't allowed in a leading, non-existing dimension 1\",)\n",
      "Ignored volume 2 in sample Data/train/study/DR_02079/DR_0234D.E2E - type match error\n"
     ]
    },
    {
     "name": "stderr",
     "output_type": "stream",
     "text": [
      " 49%|████▉     | 320/647 [17:46<08:43,  1.60s/it]"
     ]
    },
    {
     "name": "stdout",
     "output_type": "stream",
     "text": [
      "An exception of type RuntimeError occurred. Arguments:\n",
      "(\"The expanded size of the tensor (-1) isn't allowed in a leading, non-existing dimension 1\",)\n",
      "Ignored volume 0 in sample Data/train/study/DR_02079/DR_0297D.E2E - type match error\n",
      "An exception of type RuntimeError occurred. Arguments:\n",
      "(\"The expanded size of the tensor (-1) isn't allowed in a leading, non-existing dimension 1\",)\n",
      "Ignored volume 1 in sample Data/train/study/DR_02079/DR_0297D.E2E - type match error\n"
     ]
    },
    {
     "name": "stderr",
     "output_type": "stream",
     "text": [
      " 50%|████▉     | 321/647 [17:46<06:26,  1.19s/it]"
     ]
    },
    {
     "name": "stdout",
     "output_type": "stream",
     "text": [
      "An exception of type RuntimeError occurred. Arguments:\n",
      "(\"The expanded size of the tensor (-1) isn't allowed in a leading, non-existing dimension 1\",)\n",
      "Ignored volume 0 in sample Data/train/study/DR_02079/DR_0258D.E2E - type match error\n",
      "An exception of type RuntimeError occurred. Arguments:\n",
      "(\"The expanded size of the tensor (-1) isn't allowed in a leading, non-existing dimension 1\",)\n",
      "Ignored volume 1 in sample Data/train/study/DR_02079/DR_0258D.E2E - type match error\n"
     ]
    },
    {
     "name": "stderr",
     "output_type": "stream",
     "text": [
      " 50%|████▉     | 323/647 [17:51<07:59,  1.48s/it]"
     ]
    },
    {
     "name": "stdout",
     "output_type": "stream",
     "text": [
      "An exception of type RuntimeError occurred. Arguments:\n",
      "(\"The expanded size of the tensor (-1) isn't allowed in a leading, non-existing dimension 1\",)\n",
      "Ignored volume 0 in sample Data/train/study/DR_02079/DR_0210D.E2E - type match error\n",
      "An exception of type RuntimeError occurred. Arguments:\n",
      "(\"The expanded size of the tensor (-1) isn't allowed in a leading, non-existing dimension 1\",)\n",
      "Ignored volume 1 in sample Data/train/study/DR_02079/DR_0210D.E2E - type match error\n"
     ]
    },
    {
     "name": "stderr",
     "output_type": "stream",
     "text": [
      " 50%|█████     | 324/647 [17:51<05:55,  1.10s/it]"
     ]
    },
    {
     "name": "stdout",
     "output_type": "stream",
     "text": [
      "An exception of type RuntimeError occurred. Arguments:\n",
      "(\"The expanded size of the tensor (-1) isn't allowed in a leading, non-existing dimension 1\",)\n",
      "Ignored volume 0 in sample Data/train/study/DR_02079/DR_0204D.E2E - type match error\n",
      "An exception of type RuntimeError occurred. Arguments:\n",
      "(\"The expanded size of the tensor (-1) isn't allowed in a leading, non-existing dimension 1\",)\n",
      "Ignored volume 1 in sample Data/train/study/DR_02079/DR_0204D.E2E - type match error\n"
     ]
    },
    {
     "name": "stderr",
     "output_type": "stream",
     "text": [
      " 50%|█████     | 326/647 [17:54<07:11,  1.34s/it]"
     ]
    },
    {
     "name": "stdout",
     "output_type": "stream",
     "text": [
      "An exception of type RuntimeError occurred. Arguments:\n",
      "(\"The expanded size of the tensor (-1) isn't allowed in a leading, non-existing dimension 1\",)\n",
      "Ignored volume 0 in sample Data/train/study/DR_02079/DR_0250D.E2E - type match error\n",
      "An exception of type RuntimeError occurred. Arguments:\n",
      "(\"The expanded size of the tensor (-1) isn't allowed in a leading, non-existing dimension 1\",)\n",
      "Ignored volume 1 in sample Data/train/study/DR_02079/DR_0250D.E2E - type match error\n"
     ]
    },
    {
     "name": "stderr",
     "output_type": "stream",
     "text": [
      " 51%|█████▏    | 332/647 [18:16<13:51,  2.64s/it]"
     ]
    },
    {
     "name": "stdout",
     "output_type": "stream",
     "text": [
      "An exception of type RuntimeError occurred. Arguments:\n",
      "(\"The expanded size of the tensor (-1) isn't allowed in a leading, non-existing dimension 1\",)\n",
      "Ignored volume 0 in sample Data/train/study/DR_02079/DR_0220D.E2E - type match error\n",
      "An exception of type RuntimeError occurred. Arguments:\n",
      "(\"The expanded size of the tensor (-1) isn't allowed in a leading, non-existing dimension 1\",)\n",
      "Ignored volume 1 in sample Data/train/study/DR_02079/DR_0220D.E2E - type match error\n"
     ]
    },
    {
     "name": "stderr",
     "output_type": "stream",
     "text": [
      " 52%|█████▏    | 335/647 [18:24<11:54,  2.29s/it]"
     ]
    },
    {
     "name": "stdout",
     "output_type": "stream",
     "text": [
      "An exception of type RuntimeError occurred. Arguments:\n",
      "(\"The expanded size of the tensor (-1) isn't allowed in a leading, non-existing dimension 1\",)\n",
      "Ignored volume 0 in sample Data/train/study/DR_02079/DR_0242D.E2E - type match error\n",
      "An exception of type RuntimeError occurred. Arguments:\n",
      "(\"The expanded size of the tensor (-1) isn't allowed in a leading, non-existing dimension 1\",)\n",
      "Ignored volume 1 in sample Data/train/study/DR_02079/DR_0242D.E2E - type match error\n"
     ]
    },
    {
     "name": "stderr",
     "output_type": "stream",
     "text": [
      " 52%|█████▏    | 339/647 [18:36<12:25,  2.42s/it]"
     ]
    },
    {
     "name": "stdout",
     "output_type": "stream",
     "text": [
      "An exception of type RuntimeError occurred. Arguments:\n",
      "(\"The expanded size of the tensor (-1) isn't allowed in a leading, non-existing dimension 1\",)\n",
      "Ignored volume 0 in sample Data/train/study/DR_02079/DR_0244D.E2E - type match error\n",
      "An exception of type RuntimeError occurred. Arguments:\n",
      "(\"The expanded size of the tensor (-1) isn't allowed in a leading, non-existing dimension 1\",)\n",
      "Ignored volume 1 in sample Data/train/study/DR_02079/DR_0244D.E2E - type match error\n"
     ]
    },
    {
     "name": "stderr",
     "output_type": "stream",
     "text": [
      " 53%|█████▎    | 340/647 [18:36<09:00,  1.76s/it]"
     ]
    },
    {
     "name": "stdout",
     "output_type": "stream",
     "text": [
      "An exception of type RuntimeError occurred. Arguments:\n",
      "(\"The expanded size of the tensor (-1) isn't allowed in a leading, non-existing dimension 1\",)\n",
      "Ignored volume 0 in sample Data/train/study/DR_02079/DR_0295D.E2E - type match error\n",
      "An exception of type RuntimeError occurred. Arguments:\n",
      "(\"The expanded size of the tensor (-1) isn't allowed in a leading, non-existing dimension 1\",)\n",
      "Ignored volume 1 in sample Data/train/study/DR_02079/DR_0295D.E2E - type match error\n"
     ]
    },
    {
     "name": "stderr",
     "output_type": "stream",
     "text": [
      " 53%|█████▎    | 342/647 [18:40<08:39,  1.70s/it]"
     ]
    },
    {
     "name": "stdout",
     "output_type": "stream",
     "text": [
      "An exception of type RuntimeError occurred. Arguments:\n",
      "(\"The expanded size of the tensor (-1) isn't allowed in a leading, non-existing dimension 1\",)\n",
      "Ignored volume 0 in sample Data/train/study/DR_02079/DR_0230D.E2E - type match error\n",
      "An exception of type RuntimeError occurred. Arguments:\n",
      "(\"The expanded size of the tensor (-1) isn't allowed in a leading, non-existing dimension 1\",)\n",
      "Ignored volume 1 in sample Data/train/study/DR_02079/DR_0230D.E2E - type match error\n"
     ]
    },
    {
     "name": "stderr",
     "output_type": "stream",
     "text": [
      " 53%|█████▎    | 343/647 [18:40<06:23,  1.26s/it]"
     ]
    },
    {
     "name": "stdout",
     "output_type": "stream",
     "text": [
      "An exception of type RuntimeError occurred. Arguments:\n",
      "(\"The expanded size of the tensor (-1) isn't allowed in a leading, non-existing dimension 1\",)\n",
      "Ignored volume 0 in sample Data/train/study/DR_02079/DR_0273D.E2E - type match error\n",
      "An exception of type RuntimeError occurred. Arguments:\n",
      "(\"The expanded size of the tensor (-1) isn't allowed in a leading, non-existing dimension 1\",)\n",
      "Ignored volume 1 in sample Data/train/study/DR_02079/DR_0273D.E2E - type match error\n"
     ]
    },
    {
     "name": "stderr",
     "output_type": "stream",
     "text": [
      " 53%|█████▎    | 344/647 [18:40<04:49,  1.05it/s]"
     ]
    },
    {
     "name": "stdout",
     "output_type": "stream",
     "text": [
      "An exception of type RuntimeError occurred. Arguments:\n",
      "(\"The expanded size of the tensor (-1) isn't allowed in a leading, non-existing dimension 1\",)\n",
      "Ignored volume 0 in sample Data/train/study/DR_02079/DR_0222D.E2E - type match error\n",
      "An exception of type RuntimeError occurred. Arguments:\n",
      "(\"The expanded size of the tensor (-1) isn't allowed in a leading, non-existing dimension 1\",)\n",
      "Ignored volume 1 in sample Data/train/study/DR_02079/DR_0222D.E2E - type match error\n"
     ]
    },
    {
     "name": "stderr",
     "output_type": "stream",
     "text": [
      " 53%|█████▎    | 346/647 [18:44<06:39,  1.33s/it]"
     ]
    },
    {
     "name": "stdout",
     "output_type": "stream",
     "text": [
      "An exception of type RuntimeError occurred. Arguments:\n",
      "(\"The expanded size of the tensor (-1) isn't allowed in a leading, non-existing dimension 1\",)\n",
      "Ignored volume 1 in sample Data/train/study/DR_02079/DR_02114D.E2E - type match error\n",
      "An exception of type RuntimeError occurred. Arguments:\n",
      "(\"The expanded size of the tensor (-1) isn't allowed in a leading, non-existing dimension 1\",)\n",
      "Ignored volume 2 in sample Data/train/study/DR_02079/DR_02114D.E2E - type match error\n"
     ]
    },
    {
     "name": "stderr",
     "output_type": "stream",
     "text": [
      " 54%|█████▎    | 347/647 [18:44<04:59,  1.00it/s]"
     ]
    },
    {
     "name": "stdout",
     "output_type": "stream",
     "text": [
      "An exception of type RuntimeError occurred. Arguments:\n",
      "(\"The expanded size of the tensor (-1) isn't allowed in a leading, non-existing dimension 1\",)\n",
      "Ignored volume 0 in sample Data/train/study/DR_02079/DR_02112D.E2E - type match error\n",
      "An exception of type RuntimeError occurred. Arguments:\n",
      "(\"The expanded size of the tensor (-1) isn't allowed in a leading, non-existing dimension 1\",)\n",
      "Ignored volume 1 in sample Data/train/study/DR_02079/DR_02112D.E2E - type match error\n"
     ]
    },
    {
     "name": "stderr",
     "output_type": "stream",
     "text": [
      " 54%|█████▍    | 351/647 [18:52<07:16,  1.48s/it]"
     ]
    },
    {
     "name": "stdout",
     "output_type": "stream",
     "text": [
      "An exception of type RuntimeError occurred. Arguments:\n",
      "(\"The expanded size of the tensor (-1) isn't allowed in a leading, non-existing dimension 1\",)\n",
      "Ignored volume 0 in sample Data/train/study/DR_03742/DR_0347D.E2E - type match error\n",
      "An exception of type RuntimeError occurred. Arguments:\n",
      "(\"The expanded size of the tensor (-1) isn't allowed in a leading, non-existing dimension 1\",)\n",
      "Ignored volume 1 in sample Data/train/study/DR_03742/DR_0347D.E2E - type match error\n"
     ]
    },
    {
     "name": "stderr",
     "output_type": "stream",
     "text": [
      " 54%|█████▍    | 352/647 [18:52<05:34,  1.14s/it]"
     ]
    },
    {
     "name": "stdout",
     "output_type": "stream",
     "text": [
      "An exception of type RuntimeError occurred. Arguments:\n",
      "(\"The expanded size of the tensor (-1) isn't allowed in a leading, non-existing dimension 1\",)\n",
      "Ignored volume 0 in sample Data/train/study/DR_03742/DR_0375D.E2E - type match error\n",
      "An exception of type RuntimeError occurred. Arguments:\n",
      "(\"The expanded size of the tensor (-1) isn't allowed in a leading, non-existing dimension 1\",)\n",
      "Ignored volume 1 in sample Data/train/study/DR_03742/DR_0375D.E2E - type match error\n"
     ]
    },
    {
     "name": "stderr",
     "output_type": "stream",
     "text": [
      " 55%|█████▍    | 353/647 [18:52<04:20,  1.13it/s]"
     ]
    },
    {
     "name": "stdout",
     "output_type": "stream",
     "text": [
      "An exception of type RuntimeError occurred. Arguments:\n",
      "(\"The expanded size of the tensor (-1) isn't allowed in a leading, non-existing dimension 1\",)\n",
      "Ignored volume 0 in sample Data/train/study/DR_03742/DR_0353D.E2E - type match error\n",
      "An exception of type RuntimeError occurred. Arguments:\n",
      "(\"The expanded size of the tensor (-1) isn't allowed in a leading, non-existing dimension 1\",)\n",
      "Ignored volume 1 in sample Data/train/study/DR_03742/DR_0353D.E2E - type match error\n"
     ]
    },
    {
     "name": "stderr",
     "output_type": "stream",
     "text": [
      " 55%|█████▌    | 357/647 [19:04<09:27,  1.96s/it]"
     ]
    },
    {
     "name": "stdout",
     "output_type": "stream",
     "text": [
      "An exception of type RuntimeError occurred. Arguments:\n",
      "(\"The expanded size of the tensor (-1) isn't allowed in a leading, non-existing dimension 1\",)\n",
      "Ignored volume 0 in sample Data/train/study/DR_03742/DR_0365D.E2E - type match error\n",
      "An exception of type RuntimeError occurred. Arguments:\n",
      "(\"The expanded size of the tensor (-1) isn't allowed in a leading, non-existing dimension 1\",)\n",
      "Ignored volume 1 in sample Data/train/study/DR_03742/DR_0365D.E2E - type match error\n"
     ]
    },
    {
     "name": "stderr",
     "output_type": "stream",
     "text": [
      " 56%|█████▌    | 361/647 [19:15<11:05,  2.33s/it]"
     ]
    },
    {
     "name": "stdout",
     "output_type": "stream",
     "text": [
      "An exception of type RuntimeError occurred. Arguments:\n",
      "(\"The expanded size of the tensor (-1) isn't allowed in a leading, non-existing dimension 1\",)\n",
      "Ignored volume 0 in sample Data/train/study/DR_03742/DR_0363D.E2E - type match error\n",
      "An exception of type RuntimeError occurred. Arguments:\n",
      "(\"The expanded size of the tensor (-1) isn't allowed in a leading, non-existing dimension 1\",)\n",
      "Ignored volume 1 in sample Data/train/study/DR_03742/DR_0363D.E2E - type match error\n"
     ]
    },
    {
     "name": "stderr",
     "output_type": "stream",
     "text": [
      " 56%|█████▌    | 363/647 [19:19<09:36,  2.03s/it]"
     ]
    },
    {
     "name": "stdout",
     "output_type": "stream",
     "text": [
      "An exception of type RuntimeError occurred. Arguments:\n",
      "(\"The expanded size of the tensor (-1) isn't allowed in a leading, non-existing dimension 1\",)\n",
      "Ignored volume 0 in sample Data/train/study/DR_03742/DR_0317D.E2E - type match error\n",
      "An exception of type RuntimeError occurred. Arguments:\n",
      "(\"The expanded size of the tensor (-1) isn't allowed in a leading, non-existing dimension 1\",)\n",
      "Ignored volume 1 in sample Data/train/study/DR_03742/DR_0317D.E2E - type match error\n"
     ]
    },
    {
     "name": "stderr",
     "output_type": "stream",
     "text": [
      " 56%|█████▋    | 364/647 [19:20<07:02,  1.49s/it]"
     ]
    },
    {
     "name": "stdout",
     "output_type": "stream",
     "text": [
      "An exception of type RuntimeError occurred. Arguments:\n",
      "(\"The expanded size of the tensor (-1) isn't allowed in a leading, non-existing dimension 1\",)\n",
      "Ignored volume 0 in sample Data/train/study/DR_03742/DR_0361D.E2E - type match error\n",
      "An exception of type RuntimeError occurred. Arguments:\n",
      "(\"The expanded size of the tensor (-1) isn't allowed in a leading, non-existing dimension 1\",)\n",
      "Ignored volume 1 in sample Data/train/study/DR_03742/DR_0361D.E2E - type match error\n"
     ]
    },
    {
     "name": "stderr",
     "output_type": "stream",
     "text": [
      " 56%|█████▋    | 365/647 [19:20<05:13,  1.11s/it]"
     ]
    },
    {
     "name": "stdout",
     "output_type": "stream",
     "text": [
      "An exception of type RuntimeError occurred. Arguments:\n",
      "(\"The expanded size of the tensor (-1) isn't allowed in a leading, non-existing dimension 1\",)\n",
      "Ignored volume 0 in sample Data/train/study/DR_03742/DR_0373D.E2E - type match error\n",
      "An exception of type RuntimeError occurred. Arguments:\n",
      "(\"The expanded size of the tensor (-1) isn't allowed in a leading, non-existing dimension 1\",)\n",
      "Ignored volume 1 in sample Data/train/study/DR_03742/DR_0373D.E2E - type match error\n"
     ]
    },
    {
     "name": "stderr",
     "output_type": "stream",
     "text": [
      " 57%|█████▋    | 370/647 [19:35<10:11,  2.21s/it]"
     ]
    },
    {
     "name": "stdout",
     "output_type": "stream",
     "text": [
      "An exception of type RuntimeError occurred. Arguments:\n",
      "(\"The expanded size of the tensor (-1) isn't allowed in a leading, non-existing dimension 1\",)\n",
      "Ignored volume 0 in sample Data/train/study/DR_03742/DR_0309D.E2E - type match error\n",
      "An exception of type RuntimeError occurred. Arguments:\n",
      "(\"The expanded size of the tensor (-1) isn't allowed in a leading, non-existing dimension 1\",)\n",
      "Ignored volume 1 in sample Data/train/study/DR_03742/DR_0309D.E2E - type match error\n"
     ]
    },
    {
     "name": "stderr",
     "output_type": "stream",
     "text": [
      " 58%|█████▊    | 373/647 [19:42<09:49,  2.15s/it]"
     ]
    },
    {
     "name": "stdout",
     "output_type": "stream",
     "text": [
      "An exception of type RuntimeError occurred. Arguments:\n",
      "(\"The expanded size of the tensor (-1) isn't allowed in a leading, non-existing dimension 1\",)\n",
      "Ignored volume 0 in sample Data/train/study/DR_03742/DR_0303D.E2E - type match error\n",
      "An exception of type RuntimeError occurred. Arguments:\n",
      "(\"The expanded size of the tensor (-1) isn't allowed in a leading, non-existing dimension 1\",)\n",
      "Ignored volume 1 in sample Data/train/study/DR_03742/DR_0303D.E2E - type match error\n"
     ]
    },
    {
     "name": "stderr",
     "output_type": "stream",
     "text": [
      " 58%|█████▊    | 375/647 [19:46<08:44,  1.93s/it]"
     ]
    },
    {
     "name": "stdout",
     "output_type": "stream",
     "text": [
      "An exception of type RuntimeError occurred. Arguments:\n",
      "(\"The expanded size of the tensor (-1) isn't allowed in a leading, non-existing dimension 1\",)\n",
      "Ignored volume 0 in sample Data/train/study/DR_03742/DR_0323D.E2E - type match error\n",
      "An exception of type RuntimeError occurred. Arguments:\n",
      "(\"The expanded size of the tensor (-1) isn't allowed in a leading, non-existing dimension 1\",)\n",
      "Ignored volume 1 in sample Data/train/study/DR_03742/DR_0323D.E2E - type match error\n"
     ]
    },
    {
     "name": "stderr",
     "output_type": "stream",
     "text": [
      " 58%|█████▊    | 377/647 [19:50<07:57,  1.77s/it]"
     ]
    },
    {
     "name": "stdout",
     "output_type": "stream",
     "text": [
      "An exception of type RuntimeError occurred. Arguments:\n",
      "(\"The expanded size of the tensor (-1) isn't allowed in a leading, non-existing dimension 1\",)\n",
      "Ignored volume 0 in sample Data/train/study/DR_03742/DR_0333D.E2E - type match error\n",
      "An exception of type RuntimeError occurred. Arguments:\n",
      "(\"The expanded size of the tensor (-1) isn't allowed in a leading, non-existing dimension 1\",)\n",
      "Ignored volume 1 in sample Data/train/study/DR_03742/DR_0333D.E2E - type match error\n"
     ]
    },
    {
     "name": "stderr",
     "output_type": "stream",
     "text": [
      " 59%|█████▉    | 381/647 [20:01<09:32,  2.15s/it]"
     ]
    },
    {
     "name": "stdout",
     "output_type": "stream",
     "text": [
      "An exception of type RuntimeError occurred. Arguments:\n",
      "(\"The expanded size of the tensor (-1) isn't allowed in a leading, non-existing dimension 1\",)\n",
      "Ignored volume 0 in sample Data/train/study/DR_03742/DR_0307D.E2E - type match error\n",
      "An exception of type RuntimeError occurred. Arguments:\n",
      "(\"The expanded size of the tensor (-1) isn't allowed in a leading, non-existing dimension 1\",)\n",
      "Ignored volume 1 in sample Data/train/study/DR_03742/DR_0307D.E2E - type match error\n"
     ]
    },
    {
     "name": "stderr",
     "output_type": "stream",
     "text": [
      " 59%|█████▉    | 382/647 [20:01<06:56,  1.57s/it]"
     ]
    },
    {
     "name": "stdout",
     "output_type": "stream",
     "text": [
      "An exception of type RuntimeError occurred. Arguments:\n",
      "(\"The expanded size of the tensor (-1) isn't allowed in a leading, non-existing dimension 1\",)\n",
      "Ignored volume 0 in sample Data/train/study/DR_03742/DR_0329D.E2E - type match error\n",
      "An exception of type RuntimeError occurred. Arguments:\n",
      "(\"The expanded size of the tensor (-1) isn't allowed in a leading, non-existing dimension 1\",)\n",
      "Ignored volume 1 in sample Data/train/study/DR_03742/DR_0329D.E2E - type match error\n"
     ]
    },
    {
     "name": "stderr",
     "output_type": "stream",
     "text": [
      " 59%|█████▉    | 383/647 [20:02<05:07,  1.17s/it]"
     ]
    },
    {
     "name": "stdout",
     "output_type": "stream",
     "text": [
      "An exception of type RuntimeError occurred. Arguments:\n",
      "(\"The expanded size of the tensor (-1) isn't allowed in a leading, non-existing dimension 1\",)\n",
      "Ignored volume 1 in sample Data/train/study/DR_03742/DR_0345D.E2E - type match error\n",
      "An exception of type RuntimeError occurred. Arguments:\n",
      "(\"The expanded size of the tensor (-1) isn't allowed in a leading, non-existing dimension 1\",)\n",
      "Ignored volume 2 in sample Data/train/study/DR_03742/DR_0345D.E2E - type match error\n"
     ]
    },
    {
     "name": "stderr",
     "output_type": "stream",
     "text": [
      " 59%|█████▉    | 384/647 [20:02<03:52,  1.13it/s]"
     ]
    },
    {
     "name": "stdout",
     "output_type": "stream",
     "text": [
      "An exception of type RuntimeError occurred. Arguments:\n",
      "(\"The expanded size of the tensor (-1) isn't allowed in a leading, non-existing dimension 1\",)\n",
      "Ignored volume 0 in sample Data/train/study/DR_03742/DR_0311D.E2E - type match error\n",
      "An exception of type RuntimeError occurred. Arguments:\n",
      "(\"The expanded size of the tensor (-1) isn't allowed in a leading, non-existing dimension 1\",)\n",
      "Ignored volume 1 in sample Data/train/study/DR_03742/DR_0311D.E2E - type match error\n"
     ]
    },
    {
     "name": "stderr",
     "output_type": "stream",
     "text": [
      " 60%|█████▉    | 385/647 [20:02<02:58,  1.47it/s]"
     ]
    },
    {
     "name": "stdout",
     "output_type": "stream",
     "text": [
      "An exception of type RuntimeError occurred. Arguments:\n",
      "(\"The expanded size of the tensor (-1) isn't allowed in a leading, non-existing dimension 1\",)\n",
      "Ignored volume 0 in sample Data/train/study/DR_03742/DR_0331D.E2E - type match error\n",
      "An exception of type RuntimeError occurred. Arguments:\n",
      "(\"The expanded size of the tensor (-1) isn't allowed in a leading, non-existing dimension 1\",)\n",
      "Ignored volume 1 in sample Data/train/study/DR_03742/DR_0331D.E2E - type match error\n"
     ]
    },
    {
     "name": "stderr",
     "output_type": "stream",
     "text": [
      " 60%|█████▉    | 387/647 [20:06<04:49,  1.11s/it]"
     ]
    },
    {
     "name": "stdout",
     "output_type": "stream",
     "text": [
      "An exception of type RuntimeError occurred. Arguments:\n",
      "(\"The expanded size of the tensor (-1) isn't allowed in a leading, non-existing dimension 1\",)\n",
      "Ignored volume 0 in sample Data/train/study/DR_03742/DR_0319D.E2E - type match error\n",
      "An exception of type RuntimeError occurred. Arguments:\n",
      "(\"The expanded size of the tensor (-1) isn't allowed in a leading, non-existing dimension 1\",)\n",
      "Ignored volume 1 in sample Data/train/study/DR_03742/DR_0319D.E2E - type match error\n"
     ]
    },
    {
     "name": "stderr",
     "output_type": "stream",
     "text": [
      " 61%|██████    | 395/647 [20:35<11:04,  2.64s/it]"
     ]
    },
    {
     "name": "stdout",
     "output_type": "stream",
     "text": [
      "An exception of type RuntimeError occurred. Arguments:\n",
      "(\"The expanded size of the tensor (-1) isn't allowed in a leading, non-existing dimension 1\",)\n",
      "Ignored volume 0 in sample Data/train/study/DR_03742/DR_0335D.E2E - type match error\n",
      "An exception of type RuntimeError occurred. Arguments:\n",
      "(\"The expanded size of the tensor (-1) isn't allowed in a leading, non-existing dimension 1\",)\n",
      "Ignored volume 1 in sample Data/train/study/DR_03742/DR_0335D.E2E - type match error\n"
     ]
    },
    {
     "name": "stderr",
     "output_type": "stream",
     "text": [
      " 61%|██████    | 396/647 [20:35<08:00,  1.91s/it]"
     ]
    },
    {
     "name": "stdout",
     "output_type": "stream",
     "text": [
      "An exception of type RuntimeError occurred. Arguments:\n",
      "(\"The expanded size of the tensor (-1) isn't allowed in a leading, non-existing dimension 1\",)\n",
      "Ignored volume 0 in sample Data/train/study/DR_03742/DR_0305D.E2E - type match error\n",
      "An exception of type RuntimeError occurred. Arguments:\n",
      "(\"The expanded size of the tensor (-1) isn't allowed in a leading, non-existing dimension 1\",)\n",
      "Ignored volume 1 in sample Data/train/study/DR_03742/DR_0305D.E2E - type match error\n"
     ]
    },
    {
     "name": "stderr",
     "output_type": "stream",
     "text": [
      " 61%|██████▏   | 397/647 [20:36<05:51,  1.41s/it]"
     ]
    },
    {
     "name": "stdout",
     "output_type": "stream",
     "text": [
      "An exception of type RuntimeError occurred. Arguments:\n",
      "(\"The expanded size of the tensor (-1) isn't allowed in a leading, non-existing dimension 1\",)\n",
      "Ignored volume 0 in sample Data/train/study/DR_03742/DR_0339D.E2E - type match error\n",
      "An exception of type RuntimeError occurred. Arguments:\n",
      "(\"The expanded size of the tensor (-1) isn't allowed in a leading, non-existing dimension 1\",)\n",
      "Ignored volume 1 in sample Data/train/study/DR_03742/DR_0339D.E2E - type match error\n"
     ]
    },
    {
     "name": "stderr",
     "output_type": "stream",
     "text": [
      " 62%|██████▏   | 399/647 [20:40<06:25,  1.55s/it]"
     ]
    },
    {
     "name": "stdout",
     "output_type": "stream",
     "text": [
      "An exception of type RuntimeError occurred. Arguments:\n",
      "(\"The expanded size of the tensor (-1) isn't allowed in a leading, non-existing dimension 1\",)\n",
      "Ignored volume 0 in sample Data/train/study/DR_03742/DR_0321D.E2E - type match error\n",
      "An exception of type RuntimeError occurred. Arguments:\n",
      "(\"The expanded size of the tensor (-1) isn't allowed in a leading, non-existing dimension 1\",)\n",
      "Ignored volume 1 in sample Data/train/study/DR_03742/DR_0321D.E2E - type match error\n"
     ]
    },
    {
     "name": "stderr",
     "output_type": "stream",
     "text": [
      " 62%|██████▏   | 402/647 [20:47<07:34,  1.85s/it]"
     ]
    },
    {
     "name": "stdout",
     "output_type": "stream",
     "text": [
      "An exception of type RuntimeError occurred. Arguments:\n",
      "(\"The expanded size of the tensor (-1) isn't allowed in a leading, non-existing dimension 1\",)\n",
      "Ignored volume 0 in sample Data/train/study/DR_03742/DR_0367D.E2E - type match error\n",
      "An exception of type RuntimeError occurred. Arguments:\n",
      "(\"The expanded size of the tensor (-1) isn't allowed in a leading, non-existing dimension 1\",)\n",
      "Ignored volume 1 in sample Data/train/study/DR_03742/DR_0367D.E2E - type match error\n"
     ]
    },
    {
     "name": "stderr",
     "output_type": "stream",
     "text": [
      " 62%|██████▏   | 404/647 [20:51<07:03,  1.74s/it]"
     ]
    },
    {
     "name": "stdout",
     "output_type": "stream",
     "text": [
      "An exception of type RuntimeError occurred. Arguments:\n",
      "(\"The expanded size of the tensor (-1) isn't allowed in a leading, non-existing dimension 1\",)\n",
      "Ignored volume 0 in sample Data/train/study/DR_03742/DR_0355D.E2E - type match error\n",
      "An exception of type RuntimeError occurred. Arguments:\n",
      "(\"The expanded size of the tensor (-1) isn't allowed in a leading, non-existing dimension 1\",)\n",
      "Ignored volume 1 in sample Data/train/study/DR_03742/DR_0355D.E2E - type match error\n"
     ]
    },
    {
     "name": "stderr",
     "output_type": "stream",
     "text": [
      " 63%|██████▎   | 407/647 [20:58<07:57,  1.99s/it]"
     ]
    },
    {
     "name": "stdout",
     "output_type": "stream",
     "text": [
      "An exception of type RuntimeError occurred. Arguments:\n",
      "(\"The expanded size of the tensor (-1) isn't allowed in a leading, non-existing dimension 1\",)\n",
      "Ignored volume 0 in sample Data/train/study/DR_03742/DR_0343D.E2E - type match error\n",
      "An exception of type RuntimeError occurred. Arguments:\n",
      "(\"The expanded size of the tensor (-1) isn't allowed in a leading, non-existing dimension 1\",)\n",
      "Ignored volume 1 in sample Data/train/study/DR_03742/DR_0343D.E2E - type match error\n"
     ]
    },
    {
     "name": "stderr",
     "output_type": "stream",
     "text": [
      " 64%|██████▎   | 412/647 [21:13<09:10,  2.34s/it]"
     ]
    },
    {
     "name": "stdout",
     "output_type": "stream",
     "text": [
      "An exception of type RuntimeError occurred. Arguments:\n",
      "(\"The expanded size of the tensor (-1) isn't allowed in a leading, non-existing dimension 1\",)\n",
      "Ignored volume 0 in sample Data/train/study/DR_03742/DR_0382D.E2E - type match error\n",
      "An exception of type RuntimeError occurred. Arguments:\n",
      "(\"The expanded size of the tensor (-1) isn't allowed in a leading, non-existing dimension 1\",)\n",
      "Ignored volume 1 in sample Data/train/study/DR_03742/DR_0382D.E2E - type match error\n"
     ]
    },
    {
     "name": "stderr",
     "output_type": "stream",
     "text": [
      " 64%|██████▍   | 413/647 [21:13<06:38,  1.70s/it]"
     ]
    },
    {
     "name": "stdout",
     "output_type": "stream",
     "text": [
      "An exception of type RuntimeError occurred. Arguments:\n",
      "(\"The expanded size of the tensor (-1) isn't allowed in a leading, non-existing dimension 1\",)\n",
      "Ignored volume 0 in sample Data/train/study/DR_03742/DR_0351D.E2E - type match error\n"
     ]
    },
    {
     "name": "stderr",
     "output_type": "stream",
     "text": [
      " 64%|██████▍   | 414/647 [21:13<04:53,  1.26s/it]"
     ]
    },
    {
     "name": "stdout",
     "output_type": "stream",
     "text": [
      "An exception of type RuntimeError occurred. Arguments:\n",
      "(\"The expanded size of the tensor (-1) isn't allowed in a leading, non-existing dimension 1\",)\n",
      "Ignored volume 0 in sample Data/train/study/DR_03742/DR_0371D.E2E - type match error\n",
      "An exception of type RuntimeError occurred. Arguments:\n",
      "(\"The expanded size of the tensor (-1) isn't allowed in a leading, non-existing dimension 1\",)\n",
      "Ignored volume 1 in sample Data/train/study/DR_03742/DR_0371D.E2E - type match error\n"
     ]
    },
    {
     "name": "stderr",
     "output_type": "stream",
     "text": [
      " 64%|██████▍   | 416/647 [21:17<05:39,  1.47s/it]"
     ]
    },
    {
     "name": "stdout",
     "output_type": "stream",
     "text": [
      "An exception of type RuntimeError occurred. Arguments:\n",
      "(\"The expanded size of the tensor (-1) isn't allowed in a leading, non-existing dimension 1\",)\n",
      "Ignored volume 0 in sample Data/train/study/DR_03742/DR_0369D.E2E - type match error\n",
      "An exception of type RuntimeError occurred. Arguments:\n",
      "(\"The expanded size of the tensor (-1) isn't allowed in a leading, non-existing dimension 1\",)\n",
      "Ignored volume 1 in sample Data/train/study/DR_03742/DR_0369D.E2E - type match error\n"
     ]
    },
    {
     "name": "stderr",
     "output_type": "stream",
     "text": [
      " 64%|██████▍   | 417/647 [21:17<04:12,  1.10s/it]"
     ]
    },
    {
     "name": "stdout",
     "output_type": "stream",
     "text": [
      "An exception of type RuntimeError occurred. Arguments:\n",
      "(\"The expanded size of the tensor (-1) isn't allowed in a leading, non-existing dimension 1\",)\n",
      "Ignored volume 0 in sample Data/train/study/DR_03742/DR_0377D.E2E - type match error\n",
      "An exception of type RuntimeError occurred. Arguments:\n",
      "(\"The expanded size of the tensor (-1) isn't allowed in a leading, non-existing dimension 1\",)\n",
      "Ignored volume 1 in sample Data/train/study/DR_03742/DR_0377D.E2E - type match error\n"
     ]
    },
    {
     "name": "stderr",
     "output_type": "stream",
     "text": [
      " 65%|██████▍   | 419/647 [21:21<05:21,  1.41s/it]"
     ]
    },
    {
     "name": "stdout",
     "output_type": "stream",
     "text": [
      "An exception of type RuntimeError occurred. Arguments:\n",
      "(\"The expanded size of the tensor (-1) isn't allowed in a leading, non-existing dimension 1\",)\n",
      "Ignored volume 1 in sample Data/train/study/DR_03742/DR_0357D.E2E - type match error\n",
      "An exception of type RuntimeError occurred. Arguments:\n",
      "(\"The expanded size of the tensor (-1) isn't allowed in a leading, non-existing dimension 1\",)\n",
      "Ignored volume 2 in sample Data/train/study/DR_03742/DR_0357D.E2E - type match error\n"
     ]
    },
    {
     "name": "stderr",
     "output_type": "stream",
     "text": [
      " 65%|██████▍   | 420/647 [21:22<03:59,  1.05s/it]"
     ]
    },
    {
     "name": "stdout",
     "output_type": "stream",
     "text": [
      "An exception of type RuntimeError occurred. Arguments:\n",
      "(\"The expanded size of the tensor (-1) isn't allowed in a leading, non-existing dimension 1\",)\n",
      "Ignored volume 0 in sample Data/train/study/DR_03742/DR_0385D.E2E - type match error\n",
      "An exception of type RuntimeError occurred. Arguments:\n",
      "(\"The expanded size of the tensor (-1) isn't allowed in a leading, non-existing dimension 1\",)\n",
      "Ignored volume 1 in sample Data/train/study/DR_03742/DR_0385D.E2E - type match error\n"
     ]
    },
    {
     "name": "stderr",
     "output_type": "stream",
     "text": [
      " 65%|██████▌   | 421/647 [21:22<03:01,  1.24it/s]"
     ]
    },
    {
     "name": "stdout",
     "output_type": "stream",
     "text": [
      "An exception of type RuntimeError occurred. Arguments:\n",
      "(\"The expanded size of the tensor (-1) isn't allowed in a leading, non-existing dimension 1\",)\n",
      "Ignored volume 0 in sample Data/train/study/DR_03742/DR_0327D.E2E - type match error\n",
      "An exception of type RuntimeError occurred. Arguments:\n",
      "(\"The expanded size of the tensor (-1) isn't allowed in a leading, non-existing dimension 1\",)\n",
      "Ignored volume 1 in sample Data/train/study/DR_03742/DR_0327D.E2E - type match error\n"
     ]
    },
    {
     "name": "stderr",
     "output_type": "stream",
     "text": [
      " 65%|██████▌   | 422/647 [21:22<02:21,  1.59it/s]"
     ]
    },
    {
     "name": "stdout",
     "output_type": "stream",
     "text": [
      "An exception of type RuntimeError occurred. Arguments:\n",
      "(\"The expanded size of the tensor (-1) isn't allowed in a leading, non-existing dimension 1\",)\n",
      "Ignored volume 0 in sample Data/train/study/DR_03742/DR_0313D.E2E - type match error\n",
      "An exception of type RuntimeError occurred. Arguments:\n",
      "(\"The expanded size of the tensor (-1) isn't allowed in a leading, non-existing dimension 1\",)\n",
      "Ignored volume 1 in sample Data/train/study/DR_03742/DR_0313D.E2E - type match error\n"
     ]
    },
    {
     "name": "stderr",
     "output_type": "stream",
     "text": [
      " 66%|██████▌   | 424/647 [21:26<04:09,  1.12s/it]"
     ]
    },
    {
     "name": "stdout",
     "output_type": "stream",
     "text": [
      "An exception of type RuntimeError occurred. Arguments:\n",
      "(\"The expanded size of the tensor (-1) isn't allowed in a leading, non-existing dimension 1\",)\n",
      "Ignored volume 0 in sample Data/train/study/DR_03742/DR_0349D.E2E - type match error\n"
     ]
    },
    {
     "name": "stderr",
     "output_type": "stream",
     "text": [
      " 66%|██████▌   | 425/647 [21:26<03:08,  1.18it/s]"
     ]
    },
    {
     "name": "stdout",
     "output_type": "stream",
     "text": [
      "An exception of type RuntimeError occurred. Arguments:\n",
      "(\"The expanded size of the tensor (-1) isn't allowed in a leading, non-existing dimension 1\",)\n",
      "Ignored volume 0 in sample Data/train/study/DR_03742/DR_0325D.E2E - type match error\n",
      "An exception of type RuntimeError occurred. Arguments:\n",
      "(\"The expanded size of the tensor (-1) isn't allowed in a leading, non-existing dimension 1\",)\n",
      "Ignored volume 1 in sample Data/train/study/DR_03742/DR_0325D.E2E - type match error\n"
     ]
    },
    {
     "name": "stderr",
     "output_type": "stream",
     "text": [
      " 66%|██████▌   | 426/647 [21:26<02:25,  1.52it/s]"
     ]
    },
    {
     "name": "stdout",
     "output_type": "stream",
     "text": [
      "An exception of type RuntimeError occurred. Arguments:\n",
      "(\"The expanded size of the tensor (-1) isn't allowed in a leading, non-existing dimension 1\",)\n",
      "Ignored volume 0 in sample Data/train/study/DR_03742/DR_0315D.E2E - type match error\n",
      "An exception of type RuntimeError occurred. Arguments:\n",
      "(\"The expanded size of the tensor (-1) isn't allowed in a leading, non-existing dimension 1\",)\n",
      "Ignored volume 1 in sample Data/train/study/DR_03742/DR_0315D.E2E - type match error\n"
     ]
    },
    {
     "name": "stderr",
     "output_type": "stream",
     "text": [
      " 66%|██████▌   | 427/647 [21:26<01:55,  1.90it/s]"
     ]
    },
    {
     "name": "stdout",
     "output_type": "stream",
     "text": [
      "An exception of type RuntimeError occurred. Arguments:\n",
      "(\"The expanded size of the tensor (-1) isn't allowed in a leading, non-existing dimension 1\",)\n",
      "Ignored volume 0 in sample Data/train/study/DR_03742/DR_0337D.E2E - type match error\n",
      "An exception of type RuntimeError occurred. Arguments:\n",
      "(\"The expanded size of the tensor (-1) isn't allowed in a leading, non-existing dimension 1\",)\n",
      "Ignored volume 1 in sample Data/train/study/DR_03742/DR_0337D.E2E - type match error\n"
     ]
    },
    {
     "name": "stderr",
     "output_type": "stream",
     "text": [
      " 67%|██████▋   | 431/647 [21:38<06:58,  1.94s/it]"
     ]
    },
    {
     "name": "stdout",
     "output_type": "stream",
     "text": [
      "An exception of type RuntimeError occurred. Arguments:\n",
      "(\"The expanded size of the tensor (-1) isn't allowed in a leading, non-existing dimension 1\",)\n",
      "Ignored volume 0 in sample Data/train/study/DR_03742/DR_0359D.E2E - type match error\n",
      "An exception of type RuntimeError occurred. Arguments:\n",
      "(\"The expanded size of the tensor (-1) isn't allowed in a leading, non-existing dimension 1\",)\n",
      "Ignored volume 1 in sample Data/train/study/DR_03742/DR_0359D.E2E - type match error\n"
     ]
    },
    {
     "name": "stderr",
     "output_type": "stream",
     "text": [
      " 68%|██████▊   | 437/647 [21:57<08:37,  2.47s/it]"
     ]
    },
    {
     "name": "stdout",
     "output_type": "stream",
     "text": [
      "An exception of type RuntimeError occurred. Arguments:\n",
      "(\"The expanded size of the tensor (-1) isn't allowed in a leading, non-existing dimension 1\",)\n",
      "Ignored volume 0 in sample Data/train/study/DR_03742/DR_0341D.E2E - type match error\n",
      "An exception of type RuntimeError occurred. Arguments:\n",
      "(\"The expanded size of the tensor (-1) isn't allowed in a leading, non-existing dimension 1\",)\n",
      "Ignored volume 1 in sample Data/train/study/DR_03742/DR_0341D.E2E - type match error\n"
     ]
    },
    {
     "name": "stderr",
     "output_type": "stream",
     "text": [
      " 71%|███████▏  | 461/647 [23:11<07:51,  2.53s/it]"
     ]
    },
    {
     "name": "stdout",
     "output_type": "stream",
     "text": [
      "An exception of type RuntimeError occurred. Arguments:\n",
      "(\"The expanded size of the tensor (-1) isn't allowed in a leading, non-existing dimension 1\",)\n",
      "Ignored volume 1 in sample Data/train/study/DR_01456/DR_01456.E2E/DR_0102D.E2E - type match error\n"
     ]
    },
    {
     "name": "stderr",
     "output_type": "stream",
     "text": [
      " 75%|███████▍  | 483/647 [24:09<06:57,  2.55s/it]"
     ]
    },
    {
     "name": "stdout",
     "output_type": "stream",
     "text": [
      "An exception of type RuntimeError occurred. Arguments:\n",
      "(\"The expanded size of the tensor (-1) isn't allowed in a leading, non-existing dimension 1\",)\n",
      "Ignored volume 1 in sample Data/train/study/DR_00780/DR_00780.E2E/DR_0033D.E2E - type match error\n"
     ]
    },
    {
     "name": "stderr",
     "output_type": "stream",
     "text": [
      " 75%|███████▌  | 486/647 [24:16<06:17,  2.35s/it]"
     ]
    },
    {
     "name": "stdout",
     "output_type": "stream",
     "text": [
      "An exception of type RuntimeError occurred. Arguments:\n",
      "(\"The expanded size of the tensor (-1) isn't allowed in a leading, non-existing dimension 1\",)\n",
      "Ignored volume 2 in sample Data/train/study/DR_00780/DR_00780.E2E/DR_0020D.E2E - type match error\n"
     ]
    },
    {
     "name": "stderr",
     "output_type": "stream",
     "text": [
      " 77%|███████▋  | 499/647 [24:54<08:24,  3.41s/it]"
     ]
    },
    {
     "name": "stdout",
     "output_type": "stream",
     "text": [
      "An exception of type RuntimeError occurred. Arguments:\n",
      "(\"The expanded size of the tensor (-1) isn't allowed in a leading, non-existing dimension 1\",)\n",
      "Ignored volume 1 in sample Data/train/study/DR_00780/DR_00780.E2E/DR_0018D.E2E - type match error\n"
     ]
    },
    {
     "name": "stderr",
     "output_type": "stream",
     "text": [
      " 92%|█████████▏| 597/647 [30:21<02:16,  2.74s/it]"
     ]
    },
    {
     "name": "stdout",
     "output_type": "stream",
     "text": [
      "An exception of type RuntimeError occurred. Arguments:\n",
      "(\"The expanded size of the tensor (-1) isn't allowed in a leading, non-existing dimension 1\",)\n",
      "Ignored volume 0 in sample Data/train/study/DR_00455/DR_0029D.E2E - type match error\n",
      "An exception of type RuntimeError occurred. Arguments:\n",
      "(\"The expanded size of the tensor (-1) isn't allowed in a leading, non-existing dimension 1\",)\n",
      "Ignored volume 1 in sample Data/train/study/DR_00455/DR_0029D.E2E - type match error\n"
     ]
    },
    {
     "name": "stderr",
     "output_type": "stream",
     "text": [
      " 93%|█████████▎| 599/647 [30:25<01:46,  2.23s/it]"
     ]
    },
    {
     "name": "stdout",
     "output_type": "stream",
     "text": [
      "An exception of type RuntimeError occurred. Arguments:\n",
      "(\"The expanded size of the tensor (-1) isn't allowed in a leading, non-existing dimension 1\",)\n",
      "Ignored volume 0 in sample Data/train/study/DR_00455/DR_0027D.E2E - type match error\n",
      "An exception of type RuntimeError occurred. Arguments:\n",
      "(\"The expanded size of the tensor (-1) isn't allowed in a leading, non-existing dimension 1\",)\n",
      "Ignored volume 1 in sample Data/train/study/DR_00455/DR_0027D.E2E - type match error\n"
     ]
    },
    {
     "name": "stderr",
     "output_type": "stream",
     "text": [
      " 93%|█████████▎| 600/647 [30:26<01:16,  1.63s/it]"
     ]
    },
    {
     "name": "stdout",
     "output_type": "stream",
     "text": [
      "An exception of type RuntimeError occurred. Arguments:\n",
      "(\"The expanded size of the tensor (-1) isn't allowed in a leading, non-existing dimension 1\",)\n",
      "Ignored volume 0 in sample Data/train/study/DR_00455/DR_0025D.E2E - type match error\n",
      "An exception of type RuntimeError occurred. Arguments:\n",
      "(\"The expanded size of the tensor (-1) isn't allowed in a leading, non-existing dimension 1\",)\n",
      "Ignored volume 1 in sample Data/train/study/DR_00455/DR_0025D.E2E - type match error\n"
     ]
    },
    {
     "name": "stderr",
     "output_type": "stream",
     "text": [
      " 93%|█████████▎| 602/647 [30:31<01:30,  2.01s/it]"
     ]
    },
    {
     "name": "stdout",
     "output_type": "stream",
     "text": [
      "An exception of type RuntimeError occurred. Arguments:\n",
      "(\"The expanded size of the tensor (-1) isn't allowed in a leading, non-existing dimension 1\",)\n",
      "Ignored volume 0 in sample Data/train/study/DR_00455/DR_0016D.E2E - type match error\n",
      "An exception of type RuntimeError occurred. Arguments:\n",
      "(\"The expanded size of the tensor (-1) isn't allowed in a leading, non-existing dimension 1\",)\n",
      "Ignored volume 1 in sample Data/train/study/DR_00455/DR_0016D.E2E - type match error\n"
     ]
    },
    {
     "name": "stderr",
     "output_type": "stream",
     "text": [
      " 93%|█████████▎| 603/647 [30:31<01:04,  1.48s/it]"
     ]
    },
    {
     "name": "stdout",
     "output_type": "stream",
     "text": [
      "An exception of type RuntimeError occurred. Arguments:\n",
      "(\"The expanded size of the tensor (-1) isn't allowed in a leading, non-existing dimension 1\",)\n",
      "Ignored volume 0 in sample Data/train/study/DR_00455/DR_0020D.E2E - type match error\n",
      "An exception of type RuntimeError occurred. Arguments:\n",
      "(\"The expanded size of the tensor (-1) isn't allowed in a leading, non-existing dimension 1\",)\n",
      "Ignored volume 1 in sample Data/train/study/DR_00455/DR_0020D.E2E - type match error\n"
     ]
    },
    {
     "name": "stderr",
     "output_type": "stream",
     "text": [
      " 94%|█████████▎| 605/647 [30:36<01:08,  1.62s/it]"
     ]
    },
    {
     "name": "stdout",
     "output_type": "stream",
     "text": [
      "An exception of type RuntimeError occurred. Arguments:\n",
      "(\"The expanded size of the tensor (-1) isn't allowed in a leading, non-existing dimension 1\",)\n",
      "Ignored volume 1 in sample Data/train/study/DR_00455/DR_0012D.E2E - type match error\n",
      "An exception of type RuntimeError occurred. Arguments:\n",
      "(\"The expanded size of the tensor (-1) isn't allowed in a leading, non-existing dimension 1\",)\n",
      "Ignored volume 2 in sample Data/train/study/DR_00455/DR_0012D.E2E - type match error\n"
     ]
    },
    {
     "name": "stderr",
     "output_type": "stream",
     "text": [
      " 94%|█████████▍| 608/647 [30:40<00:55,  1.42s/it]"
     ]
    },
    {
     "name": "stdout",
     "output_type": "stream",
     "text": [
      "An exception of type RuntimeError occurred. Arguments:\n",
      "(\"The expanded size of the tensor (-1) isn't allowed in a leading, non-existing dimension 1\",)\n",
      "Ignored volume 0 in sample Data/train/study/DR_00455/DR_0024D.E2E - type match error\n",
      "An exception of type RuntimeError occurred. Arguments:\n",
      "(\"The expanded size of the tensor (-1) isn't allowed in a leading, non-existing dimension 1\",)\n",
      "Ignored volume 1 in sample Data/train/study/DR_00455/DR_0024D.E2E - type match error\n"
     ]
    },
    {
     "name": "stderr",
     "output_type": "stream",
     "text": [
      " 94%|█████████▍| 609/647 [30:40<00:40,  1.06s/it]"
     ]
    },
    {
     "name": "stdout",
     "output_type": "stream",
     "text": [
      "An exception of type RuntimeError occurred. Arguments:\n",
      "(\"The expanded size of the tensor (-1) isn't allowed in a leading, non-existing dimension 1\",)\n",
      "Ignored volume 0 in sample Data/train/study/DR_00455/DR_0004D.E2E - type match error\n",
      "An exception of type RuntimeError occurred. Arguments:\n",
      "(\"The expanded size of the tensor (-1) isn't allowed in a leading, non-existing dimension 1\",)\n",
      "Ignored volume 1 in sample Data/train/study/DR_00455/DR_0004D.E2E - type match error\n"
     ]
    },
    {
     "name": "stderr",
     "output_type": "stream",
     "text": [
      " 95%|█████████▍| 612/647 [30:49<01:16,  2.18s/it]"
     ]
    },
    {
     "name": "stdout",
     "output_type": "stream",
     "text": [
      "An exception of type RuntimeError occurred. Arguments:\n",
      "(\"The expanded size of the tensor (-1) isn't allowed in a leading, non-existing dimension 1\",)\n",
      "Ignored volume 0 in sample Data/train/study/DR_00455/DR_0022D.E2E - type match error\n",
      "An exception of type RuntimeError occurred. Arguments:\n",
      "(\"The expanded size of the tensor (-1) isn't allowed in a leading, non-existing dimension 1\",)\n",
      "Ignored volume 1 in sample Data/train/study/DR_00455/DR_0022D.E2E - type match error\n"
     ]
    },
    {
     "name": "stderr",
     "output_type": "stream",
     "text": [
      " 95%|█████████▍| 613/647 [30:50<00:54,  1.59s/it]"
     ]
    },
    {
     "name": "stdout",
     "output_type": "stream",
     "text": [
      "An exception of type RuntimeError occurred. Arguments:\n",
      "(\"The expanded size of the tensor (-1) isn't allowed in a leading, non-existing dimension 1\",)\n",
      "Ignored volume 0 in sample Data/train/study/DR_00455/DR_0014D.E2E - type match error\n",
      "An exception of type RuntimeError occurred. Arguments:\n",
      "(\"The expanded size of the tensor (-1) isn't allowed in a leading, non-existing dimension 1\",)\n",
      "Ignored volume 1 in sample Data/train/study/DR_00455/DR_0014D.E2E - type match error\n"
     ]
    },
    {
     "name": "stderr",
     "output_type": "stream",
     "text": [
      " 95%|█████████▌| 615/647 [31:00<01:36,  3.01s/it]"
     ]
    },
    {
     "name": "stdout",
     "output_type": "stream",
     "text": [
      "An exception of type RuntimeError occurred. Arguments:\n",
      "(\"The expanded size of the tensor (-1) isn't allowed in a leading, non-existing dimension 1\",)\n",
      "Ignored volume 0 in sample Data/train/study/DR_00455/DR_0006D.E2E - type match error\n",
      "An exception of type RuntimeError occurred. Arguments:\n",
      "(\"The expanded size of the tensor (-1) isn't allowed in a leading, non-existing dimension 1\",)\n",
      "Ignored volume 1 in sample Data/train/study/DR_00455/DR_0006D.E2E - type match error\n"
     ]
    },
    {
     "name": "stderr",
     "output_type": "stream",
     "text": [
      " 96%|█████████▌| 619/647 [31:14<01:18,  2.81s/it]"
     ]
    },
    {
     "name": "stdout",
     "output_type": "stream",
     "text": [
      "An exception of type RuntimeError occurred. Arguments:\n",
      "(\"The expanded size of the tensor (-1) isn't allowed in a leading, non-existing dimension 1\",)\n",
      "Ignored volume 0 in sample Data/train/study/DR_00455/DR_0018D.E2E - type match error\n",
      "An exception of type RuntimeError occurred. Arguments:\n",
      "(\"The expanded size of the tensor (-1) isn't allowed in a leading, non-existing dimension 1\",)\n",
      "Ignored volume 1 in sample Data/train/study/DR_00455/DR_0018D.E2E - type match error\n"
     ]
    },
    {
     "name": "stderr",
     "output_type": "stream",
     "text": [
      " 96%|█████████▌| 622/647 [31:22<00:59,  2.37s/it]"
     ]
    },
    {
     "name": "stdout",
     "output_type": "stream",
     "text": [
      "An exception of type RuntimeError occurred. Arguments:\n",
      "(\"The expanded size of the tensor (-1) isn't allowed in a leading, non-existing dimension 1\",)\n",
      "Ignored volume 0 in sample Data/train/study/DR_00455/DR_0010D.E2E - type match error\n",
      "An exception of type RuntimeError occurred. Arguments:\n",
      "(\"The expanded size of the tensor (-1) isn't allowed in a leading, non-existing dimension 1\",)\n",
      "Ignored volume 1 in sample Data/train/study/DR_00455/DR_0010D.E2E - type match error\n"
     ]
    },
    {
     "name": "stderr",
     "output_type": "stream",
     "text": [
      " 96%|█████████▋| 623/647 [31:22<00:41,  1.72s/it]"
     ]
    },
    {
     "name": "stdout",
     "output_type": "stream",
     "text": [
      "An exception of type RuntimeError occurred. Arguments:\n",
      "(\"The expanded size of the tensor (-1) isn't allowed in a leading, non-existing dimension 1\",)\n",
      "Ignored volume 0 in sample Data/train/study/DR_00455/DR_0008D.E2E - type match error\n"
     ]
    },
    {
     "name": "stderr",
     "output_type": "stream",
     "text": [
      "100%|██████████| 647/647 [32:31<00:00,  3.02s/it]\n",
      "100%|██████████| 8/8 [00:30<00:00,  3.83s/it]\n",
      " 33%|███▎      | 27/83 [01:05<02:32,  2.73s/it]"
     ]
    },
    {
     "name": "stdout",
     "output_type": "stream",
     "text": [
      "An exception of type RuntimeError occurred. Arguments:\n",
      "(\"The expanded size of the tensor (-1) isn't allowed in a leading, non-existing dimension 1\",)\n",
      "Ignored volume 1 in sample Data/test/study/DR_00147/DR_00147.E2E/DR_0004D.E2E - type match error\n"
     ]
    },
    {
     "name": "stderr",
     "output_type": "stream",
     "text": [
      " 51%|█████     | 42/83 [02:05<01:46,  2.61s/it]"
     ]
    },
    {
     "name": "stdout",
     "output_type": "stream",
     "text": [
      "An exception of type RuntimeError occurred. Arguments:\n",
      "(\"The expanded size of the tensor (-1) isn't allowed in a leading, non-existing dimension 1\",)\n",
      "Ignored volume 0 in sample Data/test/study/DR_00012/DR_0034D.E2E - type match error\n",
      "An exception of type RuntimeError occurred. Arguments:\n",
      "(\"The expanded size of the tensor (-1) isn't allowed in a leading, non-existing dimension 1\",)\n",
      "Ignored volume 1 in sample Data/test/study/DR_00012/DR_0034D.E2E - type match error\n"
     ]
    },
    {
     "name": "stderr",
     "output_type": "stream",
     "text": [
      " 57%|█████▋    | 47/83 [02:20<01:28,  2.45s/it]"
     ]
    },
    {
     "name": "stdout",
     "output_type": "stream",
     "text": [
      "An exception of type RuntimeError occurred. Arguments:\n",
      "(\"The expanded size of the tensor (-1) isn't allowed in a leading, non-existing dimension 1\",)\n",
      "Ignored volume 0 in sample Data/test/study/DR_00012/DR_0046D.E2E - type match error\n",
      "An exception of type RuntimeError occurred. Arguments:\n",
      "(\"The expanded size of the tensor (-1) isn't allowed in a leading, non-existing dimension 1\",)\n",
      "Ignored volume 1 in sample Data/test/study/DR_00012/DR_0046D.E2E - type match error\n"
     ]
    },
    {
     "name": "stderr",
     "output_type": "stream",
     "text": [
      " 59%|█████▉    | 49/83 [02:24<01:08,  2.03s/it]"
     ]
    },
    {
     "name": "stdout",
     "output_type": "stream",
     "text": [
      "An exception of type RuntimeError occurred. Arguments:\n",
      "(\"The expanded size of the tensor (-1) isn't allowed in a leading, non-existing dimension 1\",)\n",
      "Ignored volume 0 in sample Data/test/study/DR_00012/DR_0040D.E2E - type match error\n",
      "An exception of type RuntimeError occurred. Arguments:\n",
      "(\"The expanded size of the tensor (-1) isn't allowed in a leading, non-existing dimension 1\",)\n",
      "Ignored volume 1 in sample Data/test/study/DR_00012/DR_0040D.E2E - type match error\n"
     ]
    },
    {
     "name": "stderr",
     "output_type": "stream",
     "text": [
      " 60%|██████    | 50/83 [02:24<00:49,  1.49s/it]"
     ]
    },
    {
     "name": "stdout",
     "output_type": "stream",
     "text": [
      "An exception of type RuntimeError occurred. Arguments:\n",
      "(\"The expanded size of the tensor (-1) isn't allowed in a leading, non-existing dimension 1\",)\n",
      "Ignored volume 0 in sample Data/test/study/DR_00012/DR_0016D.E2E - type match error\n",
      "An exception of type RuntimeError occurred. Arguments:\n",
      "(\"The expanded size of the tensor (-1) isn't allowed in a leading, non-existing dimension 1\",)\n",
      "Ignored volume 1 in sample Data/test/study/DR_00012/DR_0016D.E2E - type match error\n"
     ]
    },
    {
     "name": "stderr",
     "output_type": "stream",
     "text": [
      " 61%|██████▏   | 51/83 [02:24<00:35,  1.11s/it]"
     ]
    },
    {
     "name": "stdout",
     "output_type": "stream",
     "text": [
      "An exception of type RuntimeError occurred. Arguments:\n",
      "(\"The expanded size of the tensor (-1) isn't allowed in a leading, non-existing dimension 1\",)\n",
      "Ignored volume 0 in sample Data/test/study/DR_00012/DR_0020D.E2E - type match error\n",
      "An exception of type RuntimeError occurred. Arguments:\n",
      "(\"The expanded size of the tensor (-1) isn't allowed in a leading, non-existing dimension 1\",)\n",
      "Ignored volume 1 in sample Data/test/study/DR_00012/DR_0020D.E2E - type match error\n"
     ]
    },
    {
     "name": "stderr",
     "output_type": "stream",
     "text": [
      " 64%|██████▍   | 53/83 [02:28<00:41,  1.38s/it]"
     ]
    },
    {
     "name": "stdout",
     "output_type": "stream",
     "text": [
      "An exception of type RuntimeError occurred. Arguments:\n",
      "(\"The expanded size of the tensor (-1) isn't allowed in a leading, non-existing dimension 1\",)\n",
      "Ignored volume 0 in sample Data/test/study/DR_00012/DR_0038D.E2E - type match error\n",
      "An exception of type RuntimeError occurred. Arguments:\n",
      "(\"The expanded size of the tensor (-1) isn't allowed in a leading, non-existing dimension 1\",)\n",
      "Ignored volume 1 in sample Data/test/study/DR_00012/DR_0038D.E2E - type match error\n"
     ]
    },
    {
     "name": "stderr",
     "output_type": "stream",
     "text": [
      " 65%|██████▌   | 54/83 [02:28<00:29,  1.03s/it]"
     ]
    },
    {
     "name": "stdout",
     "output_type": "stream",
     "text": [
      "An exception of type RuntimeError occurred. Arguments:\n",
      "(\"The expanded size of the tensor (-1) isn't allowed in a leading, non-existing dimension 1\",)\n",
      "Ignored volume 0 in sample Data/test/study/DR_00012/DR_0044D.E2E - type match error\n",
      "An exception of type RuntimeError occurred. Arguments:\n",
      "(\"The expanded size of the tensor (-1) isn't allowed in a leading, non-existing dimension 1\",)\n",
      "Ignored volume 1 in sample Data/test/study/DR_00012/DR_0044D.E2E - type match error\n"
     ]
    },
    {
     "name": "stderr",
     "output_type": "stream",
     "text": [
      " 66%|██████▋   | 55/83 [02:29<00:22,  1.27it/s]"
     ]
    },
    {
     "name": "stdout",
     "output_type": "stream",
     "text": [
      "An exception of type RuntimeError occurred. Arguments:\n",
      "(\"The expanded size of the tensor (-1) isn't allowed in a leading, non-existing dimension 1\",)\n",
      "Ignored volume 0 in sample Data/test/study/DR_00012/DR_0012D.E2E - type match error\n",
      "An exception of type RuntimeError occurred. Arguments:\n",
      "(\"The expanded size of the tensor (-1) isn't allowed in a leading, non-existing dimension 1\",)\n",
      "Ignored volume 1 in sample Data/test/study/DR_00012/DR_0012D.E2E - type match error\n"
     ]
    },
    {
     "name": "stderr",
     "output_type": "stream",
     "text": [
      " 69%|██████▊   | 57/83 [02:29<00:12,  2.02it/s]"
     ]
    },
    {
     "name": "stdout",
     "output_type": "stream",
     "text": [
      "An exception of type RuntimeError occurred. Arguments:\n",
      "(\"The expanded size of the tensor (-1) isn't allowed in a leading, non-existing dimension 1\",)\n",
      "Ignored volume 0 in sample Data/test/study/DR_00012/DR_0028D.E2E - type match error\n",
      "An exception of type RuntimeError occurred. Arguments:\n",
      "(\"The expanded size of the tensor (-1) isn't allowed in a leading, non-existing dimension 1\",)\n",
      "Ignored volume 1 in sample Data/test/study/DR_00012/DR_0028D.E2E - type match error\n"
     ]
    },
    {
     "name": "stderr",
     "output_type": "stream",
     "text": [
      " 70%|██████▉   | 58/83 [02:29<00:10,  2.41it/s]"
     ]
    },
    {
     "name": "stdout",
     "output_type": "stream",
     "text": [
      "An exception of type RuntimeError occurred. Arguments:\n",
      "(\"The expanded size of the tensor (-1) isn't allowed in a leading, non-existing dimension 1\",)\n",
      "Ignored volume 0 in sample Data/test/study/DR_00012/DR_0024D.E2E - type match error\n",
      "An exception of type RuntimeError occurred. Arguments:\n",
      "(\"The expanded size of the tensor (-1) isn't allowed in a leading, non-existing dimension 1\",)\n",
      "Ignored volume 1 in sample Data/test/study/DR_00012/DR_0024D.E2E - type match error\n"
     ]
    },
    {
     "name": "stderr",
     "output_type": "stream",
     "text": [
      " 71%|███████   | 59/83 [02:30<00:08,  2.81it/s]"
     ]
    },
    {
     "name": "stdout",
     "output_type": "stream",
     "text": [
      "An exception of type RuntimeError occurred. Arguments:\n",
      "(\"The expanded size of the tensor (-1) isn't allowed in a leading, non-existing dimension 1\",)\n",
      "Ignored volume 0 in sample Data/test/study/DR_00012/DR_0004D.E2E - type match error\n",
      "An exception of type RuntimeError occurred. Arguments:\n",
      "(\"The expanded size of the tensor (-1) isn't allowed in a leading, non-existing dimension 1\",)\n",
      "Ignored volume 1 in sample Data/test/study/DR_00012/DR_0004D.E2E - type match error\n"
     ]
    },
    {
     "name": "stderr",
     "output_type": "stream",
     "text": [
      " 75%|███████▍  | 62/83 [02:37<00:30,  1.46s/it]"
     ]
    },
    {
     "name": "stdout",
     "output_type": "stream",
     "text": [
      "An exception of type RuntimeError occurred. Arguments:\n",
      "(\"The expanded size of the tensor (-1) isn't allowed in a leading, non-existing dimension 1\",)\n",
      "Ignored volume 0 in sample Data/test/study/DR_00012/DR_0026D.E2E - type match error\n",
      "An exception of type RuntimeError occurred. Arguments:\n",
      "(\"The expanded size of the tensor (-1) isn't allowed in a leading, non-existing dimension 1\",)\n",
      "Ignored volume 1 in sample Data/test/study/DR_00012/DR_0026D.E2E - type match error\n"
     ]
    },
    {
     "name": "stderr",
     "output_type": "stream",
     "text": [
      " 76%|███████▌  | 63/83 [02:37<00:21,  1.09s/it]"
     ]
    },
    {
     "name": "stdout",
     "output_type": "stream",
     "text": [
      "An exception of type RuntimeError occurred. Arguments:\n",
      "(\"The expanded size of the tensor (-1) isn't allowed in a leading, non-existing dimension 1\",)\n",
      "Ignored volume 0 in sample Data/test/study/DR_00012/DR_0022D.E2E - type match error\n",
      "An exception of type RuntimeError occurred. Arguments:\n",
      "(\"The expanded size of the tensor (-1) isn't allowed in a leading, non-existing dimension 1\",)\n",
      "Ignored volume 1 in sample Data/test/study/DR_00012/DR_0022D.E2E - type match error\n"
     ]
    },
    {
     "name": "stderr",
     "output_type": "stream",
     "text": [
      " 77%|███████▋  | 64/83 [02:37<00:15,  1.20it/s]"
     ]
    },
    {
     "name": "stdout",
     "output_type": "stream",
     "text": [
      "An exception of type RuntimeError occurred. Arguments:\n",
      "(\"The expanded size of the tensor (-1) isn't allowed in a leading, non-existing dimension 1\",)\n",
      "Ignored volume 0 in sample Data/test/study/DR_00012/DR_0014D.E2E - type match error\n",
      "An exception of type RuntimeError occurred. Arguments:\n",
      "(\"The expanded size of the tensor (-1) isn't allowed in a leading, non-existing dimension 1\",)\n",
      "Ignored volume 1 in sample Data/test/study/DR_00012/DR_0014D.E2E - type match error\n"
     ]
    },
    {
     "name": "stderr",
     "output_type": "stream",
     "text": [
      " 78%|███████▊  | 65/83 [02:38<00:11,  1.54it/s]"
     ]
    },
    {
     "name": "stdout",
     "output_type": "stream",
     "text": [
      "An exception of type RuntimeError occurred. Arguments:\n",
      "(\"The expanded size of the tensor (-1) isn't allowed in a leading, non-existing dimension 1\",)\n",
      "Ignored volume 0 in sample Data/test/study/DR_00012/DR_0036D.E2E - type match error\n",
      "An exception of type RuntimeError occurred. Arguments:\n",
      "(\"The expanded size of the tensor (-1) isn't allowed in a leading, non-existing dimension 1\",)\n",
      "Ignored volume 1 in sample Data/test/study/DR_00012/DR_0036D.E2E - type match error\n"
     ]
    },
    {
     "name": "stderr",
     "output_type": "stream",
     "text": [
      " 80%|███████▉  | 66/83 [02:38<00:08,  1.92it/s]"
     ]
    },
    {
     "name": "stdout",
     "output_type": "stream",
     "text": [
      "An exception of type RuntimeError occurred. Arguments:\n",
      "(\"The expanded size of the tensor (-1) isn't allowed in a leading, non-existing dimension 1\",)\n",
      "Ignored volume 1 in sample Data/test/study/DR_00012/DR_0032D.E2E - type match error\n",
      "An exception of type RuntimeError occurred. Arguments:\n",
      "(\"The expanded size of the tensor (-1) isn't allowed in a leading, non-existing dimension 1\",)\n",
      "Ignored volume 2 in sample Data/test/study/DR_00012/DR_0032D.E2E - type match error\n"
     ]
    },
    {
     "name": "stderr",
     "output_type": "stream",
     "text": [
      " 81%|████████  | 67/83 [02:38<00:06,  2.33it/s]"
     ]
    },
    {
     "name": "stdout",
     "output_type": "stream",
     "text": [
      "An exception of type RuntimeError occurred. Arguments:\n",
      "(\"The expanded size of the tensor (-1) isn't allowed in a leading, non-existing dimension 1\",)\n",
      "Ignored volume 0 in sample Data/test/study/DR_00012/DR_0006D.E2E - type match error\n",
      "An exception of type RuntimeError occurred. Arguments:\n",
      "(\"The expanded size of the tensor (-1) isn't allowed in a leading, non-existing dimension 1\",)\n",
      "Ignored volume 1 in sample Data/test/study/DR_00012/DR_0006D.E2E - type match error\n"
     ]
    },
    {
     "name": "stderr",
     "output_type": "stream",
     "text": [
      " 86%|████████▌ | 71/83 [02:48<00:21,  1.76s/it]"
     ]
    },
    {
     "name": "stdout",
     "output_type": "stream",
     "text": [
      "An exception of type RuntimeError occurred. Arguments:\n",
      "(\"The expanded size of the tensor (-1) isn't allowed in a leading, non-existing dimension 1\",)\n",
      "Ignored volume 0 in sample Data/test/study/DR_00012/DR_0018D.E2E - type match error\n",
      "An exception of type RuntimeError occurred. Arguments:\n",
      "(\"The expanded size of the tensor (-1) isn't allowed in a leading, non-existing dimension 1\",)\n",
      "Ignored volume 1 in sample Data/test/study/DR_00012/DR_0018D.E2E - type match error\n"
     ]
    },
    {
     "name": "stderr",
     "output_type": "stream",
     "text": [
      " 88%|████████▊ | 73/83 [02:52<00:16,  1.66s/it]"
     ]
    },
    {
     "name": "stdout",
     "output_type": "stream",
     "text": [
      "An exception of type RuntimeError occurred. Arguments:\n",
      "(\"The expanded size of the tensor (-1) isn't allowed in a leading, non-existing dimension 1\",)\n",
      "Ignored volume 0 in sample Data/test/study/DR_00012/DR_0042D.E2E - type match error\n",
      "An exception of type RuntimeError occurred. Arguments:\n",
      "(\"The expanded size of the tensor (-1) isn't allowed in a leading, non-existing dimension 1\",)\n",
      "Ignored volume 1 in sample Data/test/study/DR_00012/DR_0042D.E2E - type match error\n"
     ]
    },
    {
     "name": "stderr",
     "output_type": "stream",
     "text": [
      " 89%|████████▉ | 74/83 [02:52<00:11,  1.23s/it]"
     ]
    },
    {
     "name": "stdout",
     "output_type": "stream",
     "text": [
      "An exception of type RuntimeError occurred. Arguments:\n",
      "(\"The expanded size of the tensor (-1) isn't allowed in a leading, non-existing dimension 1\",)\n",
      "Ignored volume 0 in sample Data/test/study/DR_00012/DR_0030D.E2E - type match error\n",
      "An exception of type RuntimeError occurred. Arguments:\n",
      "(\"The expanded size of the tensor (-1) isn't allowed in a leading, non-existing dimension 1\",)\n",
      "Ignored volume 1 in sample Data/test/study/DR_00012/DR_0030D.E2E - type match error\n"
     ]
    },
    {
     "name": "stderr",
     "output_type": "stream",
     "text": [
      " 90%|█████████ | 75/83 [02:53<00:07,  1.08it/s]"
     ]
    },
    {
     "name": "stdout",
     "output_type": "stream",
     "text": [
      "An exception of type RuntimeError occurred. Arguments:\n",
      "(\"The expanded size of the tensor (-1) isn't allowed in a leading, non-existing dimension 1\",)\n",
      "Ignored volume 0 in sample Data/test/study/DR_00012/DR_0010D.E2E - type match error\n",
      "An exception of type RuntimeError occurred. Arguments:\n",
      "(\"The expanded size of the tensor (-1) isn't allowed in a leading, non-existing dimension 1\",)\n",
      "Ignored volume 1 in sample Data/test/study/DR_00012/DR_0010D.E2E - type match error\n"
     ]
    },
    {
     "name": "stderr",
     "output_type": "stream",
     "text": [
      " 93%|█████████▎| 77/83 [02:56<00:07,  1.26s/it]"
     ]
    },
    {
     "name": "stdout",
     "output_type": "stream",
     "text": [
      "An exception of type RuntimeError occurred. Arguments:\n",
      "(\"The expanded size of the tensor (-1) isn't allowed in a leading, non-existing dimension 1\",)\n",
      "Ignored volume 0 in sample Data/test/study/DR_00012/DR_0008D.E2E - type match error\n",
      "An exception of type RuntimeError occurred. Arguments:\n",
      "(\"The expanded size of the tensor (-1) isn't allowed in a leading, non-existing dimension 1\",)\n",
      "Ignored volume 1 in sample Data/test/study/DR_00012/DR_0008D.E2E - type match error\n"
     ]
    },
    {
     "name": "stderr",
     "output_type": "stream",
     "text": [
      " 94%|█████████▍| 78/83 [02:57<00:04,  1.05it/s]"
     ]
    },
    {
     "name": "stdout",
     "output_type": "stream",
     "text": [
      "An exception of type RuntimeError occurred. Arguments:\n",
      "(\"The expanded size of the tensor (-1) isn't allowed in a leading, non-existing dimension 1\",)\n",
      "Ignored volume 0 in sample Data/test/study/DR_00012/DR_0048D.E2E - type match error\n",
      "An exception of type RuntimeError occurred. Arguments:\n",
      "(\"The expanded size of the tensor (-1) isn't allowed in a leading, non-existing dimension 1\",)\n",
      "Ignored volume 1 in sample Data/test/study/DR_00012/DR_0048D.E2E - type match error\n"
     ]
    },
    {
     "name": "stderr",
     "output_type": "stream",
     "text": [
      "100%|██████████| 83/83 [03:14<00:00,  2.34s/it]"
     ]
    },
    {
     "name": "stdout",
     "output_type": "stream",
     "text": [
      "Load train dataset\n",
      "Load test dataset\n",
      "loading vgg19_nominal model...\n"
     ]
    },
    {
     "name": "stderr",
     "output_type": "stream",
     "text": [
      "\n",
      "100%|██████████| 7/7 [2:13:44<00:00, 1146.40s/it]\n"
     ]
    },
    {
     "name": "stdout",
     "output_type": "stream",
     "text": [
      "Model's accuracy: 0.9\n"
     ]
    },
    {
     "data": {
      "text/html": [
       "<br/>Waiting for W&B process to finish, PID 79860<br/>Program ended successfully."
      ],
      "text/plain": [
       "<IPython.core.display.HTML object>"
      ]
     },
     "metadata": {},
     "output_type": "display_data"
    },
    {
     "data": {
      "application/vnd.jupyter.widget-view+json": {
       "model_id": "",
       "version_major": 2,
       "version_minor": 0
      },
      "text/plain": [
       "VBox(children=(Label(value=' 0.00MB of 0.00MB uploaded (0.00MB deduped)\\r'), FloatProgress(value=1.0, max=1.0)…"
      ]
     },
     "metadata": {},
     "output_type": "display_data"
    },
    {
     "data": {
      "text/html": [
       "Find user logs for this run at: <code>/home/labs/waic/sgvdan/workspace/OCT-DL/wandb/run-20211002_172552-jjkqsvfi/logs/debug.log</code>"
      ],
      "text/plain": [
       "<IPython.core.display.HTML object>"
      ]
     },
     "metadata": {},
     "output_type": "display_data"
    },
    {
     "data": {
      "text/html": [
       "Find internal logs for this run at: <code>/home/labs/waic/sgvdan/workspace/OCT-DL/wandb/run-20211002_172552-jjkqsvfi/logs/debug-internal.log</code>"
      ],
      "text/plain": [
       "<IPython.core.display.HTML object>"
      ]
     },
     "metadata": {},
     "output_type": "display_data"
    },
    {
     "data": {
      "text/html": [
       "<h3>Run summary:</h3><br/><style>\n",
       "    table.wandb td:nth-child(1) { padding: 0 10px; text-align: right }\n",
       "    </style><table class=\"wandb\">\n",
       "<tr><td>Test/accuracy</td><td>0.5</td></tr><tr><td>Test/accuracy/HEALTHY</td><td>0.0</td></tr><tr><td>Test/accuracy/SICK</td><td>1.0</td></tr><tr><td>Train/accuracy</td><td>0.97</td></tr><tr><td>Train/accuracy/HEALTHY</td><td>1.0</td></tr><tr><td>Train/accuracy/SICK</td><td>0.93</td></tr><tr><td>Train/loss</td><td>0.02779</td></tr><tr><td>model_accuracy</td><td>0.9</td></tr></table>"
      ],
      "text/plain": [
       "<IPython.core.display.HTML object>"
      ]
     },
     "metadata": {},
     "output_type": "display_data"
    },
    {
     "data": {
      "text/html": [
       "<h3>Run history:</h3><br/><style>\n",
       "    table.wandb td:nth-child(1) { padding: 0 10px; text-align: right }\n",
       "    </style><table class=\"wandb\">\n",
       "<tr><td>Test/accuracy</td><td>██████▆▆▇▆▆▁▆▅▆▅▇▇▇█▆▆▇▅▄▆▆▇▆▆▆▆▅▄▂▇▇▆▇▅</td></tr><tr><td>Test/accuracy/HEALTHY</td><td>████████▁███▁█▁██▅▇█▇▅▅██████████████▅██</td></tr><tr><td>Test/accuracy/SICK</td><td>██████▆▆▇▆▆▁▆▅▆▅▇███▇▇█▄▄▅▅▇▆▆▆▆▅▄▁▇▇▇▇▅</td></tr><tr><td>Train/accuracy</td><td>▂▅▅▃▇▄▁▆▇▇█▇▇▇▇███▇▇███▇▇██▅▇████▇████▇▇</td></tr><tr><td>Train/accuracy/HEALTHY</td><td>▄▆█▃▇▃▁▇█▇██▇█▇█████████▆██▅▇███████████</td></tr><tr><td>Train/accuracy/SICK</td><td>▁▅▁▅██▃▅▆██▄█▅████▆▆███▅█████████▆████▆▄</td></tr><tr><td>Train/loss</td><td>▆▃▃▄▁▆▇▂▂▂▁▂▁▂▁▁▁▁▂▁▁▁▁▃▃▁▁█▂▁▁▁▁▁▁▁▁▁▂▃</td></tr><tr><td>model_accuracy</td><td>▁</td></tr></table><br/>"
      ],
      "text/plain": [
       "<IPython.core.display.HTML object>"
      ]
     },
     "metadata": {},
     "output_type": "display_data"
    },
    {
     "data": {
      "text/html": [
       "Synced 6 W&B file(s), 0 media file(s), 0 artifact file(s) and 0 other file(s)"
      ],
      "text/plain": [
       "<IPython.core.display.HTML object>"
      ]
     },
     "metadata": {},
     "output_type": "display_data"
    },
    {
     "data": {
      "text/html": [
       "\n",
       "                    <br/>Synced <strong style=\"color:#cdcd00\">happy-snow-118</strong>: <a href=\"https://wandb.ai/sgvdan/OCT-DL/runs/jjkqsvfi\" target=\"_blank\">https://wandb.ai/sgvdan/OCT-DL/runs/jjkqsvfi</a><br/>\n",
       "                "
      ],
      "text/plain": [
       "<IPython.core.display.HTML object>"
      ]
     },
     "metadata": {},
     "output_type": "display_data"
    }
   ],
   "source": [
    "### Parameters\n",
    "default_config = {'train_path': {'control': 'Data/train/control', 'study': 'Data/train/study'},\n",
    "                  'test_path': {'control': 'Data/test/control', 'study': 'Data/test/study'},\n",
    "                  \n",
    "                  'cache_path': './.cache-full',\n",
    "                  'refresh_cache': True,\n",
    "                  \n",
    "                  'input_size': (496, 1024), # Some samples are (496, 512)\n",
    "                  'model_name': 'vgg19_nominal',\n",
    "                  'epochs': 7,\n",
    "                  'lr': 1e-4,\n",
    "                  'batch_size': 50,\n",
    "\n",
    "                  'device': 'cuda',\n",
    "                  }\n",
    "\n",
    "### Subroutines\n",
    "def agent():\n",
    "    with wandb.init(project=\"OCT-DL\", config=default_config):\n",
    "        config = wandb.config\n",
    "        experiment = Experiment(config)\n",
    "        experiment.run()\n",
    "\n",
    "### Playground\n",
    "agent()"
   ]
  }
 ],
 "metadata": {
  "kernelspec": {
   "display_name": "Python 3",
   "language": "python",
   "name": "python3"
  },
  "language_info": {
   "codemirror_mode": {
    "name": "ipython",
    "version": 3
   },
   "file_extension": ".py",
   "mimetype": "text/x-python",
   "name": "python",
   "nbconvert_exporter": "python",
   "pygments_lexer": "ipython3",
   "version": "3.8.5"
  }
 },
 "nbformat": 4,
 "nbformat_minor": 4
}
